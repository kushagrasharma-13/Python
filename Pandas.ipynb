{
  "nbformat": 4,
  "nbformat_minor": 0,
  "metadata": {
    "colab": {
      "provenance": [],
      "include_colab_link": true
    },
    "kernelspec": {
      "name": "python3",
      "display_name": "Python 3"
    },
    "language_info": {
      "name": "python"
    }
  },
  "cells": [
    {
      "cell_type": "markdown",
      "metadata": {
        "id": "view-in-github",
        "colab_type": "text"
      },
      "source": [
        "<a href=\"https://colab.research.google.com/github/kushagrasharma-13/Python/blob/main/Pandas.ipynb\" target=\"_parent\"><img src=\"https://colab.research.google.com/assets/colab-badge.svg\" alt=\"Open In Colab\"/></a>"
      ]
    },
    {
      "cell_type": "markdown",
      "source": [
        "Introduction to Pandas"
      ],
      "metadata": {
        "id": "BgkPSVLP0DtQ"
      }
    },
    {
      "cell_type": "markdown",
      "source": [
        "1. Importing the Pandas Module"
      ],
      "metadata": {
        "id": "jyyWp3bJYvXv"
      }
    },
    {
      "cell_type": "code",
      "source": [
        "from google.colab import drive\n",
        "drive.mount('/content/drive')"
      ],
      "metadata": {
        "colab": {
          "base_uri": "https://localhost:8080/"
        },
        "id": "3Ak8fYN0_Fxu",
        "outputId": "9cb921b8-53b8-4c54-d1c1-74dda7e395df"
      },
      "execution_count": null,
      "outputs": [
        {
          "output_type": "stream",
          "name": "stdout",
          "text": [
            "Mounted at /content/drive\n"
          ]
        }
      ]
    },
    {
      "cell_type": "code",
      "execution_count": null,
      "metadata": {
        "id": "Xpz0ygAIb5C2"
      },
      "outputs": [],
      "source": [
        "import pandas as pd"
      ]
    },
    {
      "cell_type": "markdown",
      "source": [
        "2. Checking all the fuctions available in Pandas "
      ],
      "metadata": {
        "id": "JdaEiERCY2GG"
      }
    },
    {
      "cell_type": "code",
      "source": [
        "print(dir(pd))"
      ],
      "metadata": {
        "colab": {
          "base_uri": "https://localhost:8080/"
        },
        "id": "VrnibDUscSRq",
        "outputId": "af6c7413-9734-4070-c08c-56b8eebab1ce"
      },
      "execution_count": null,
      "outputs": [
        {
          "output_type": "stream",
          "name": "stdout",
          "text": [
            "['ArrowDtype', 'BooleanDtype', 'Categorical', 'CategoricalDtype', 'CategoricalIndex', 'DataFrame', 'DateOffset', 'DatetimeIndex', 'DatetimeTZDtype', 'ExcelFile', 'ExcelWriter', 'Flags', 'Float32Dtype', 'Float64Dtype', 'Float64Index', 'Grouper', 'HDFStore', 'Index', 'IndexSlice', 'Int16Dtype', 'Int32Dtype', 'Int64Dtype', 'Int64Index', 'Int8Dtype', 'Interval', 'IntervalDtype', 'IntervalIndex', 'MultiIndex', 'NA', 'NaT', 'NamedAgg', 'Period', 'PeriodDtype', 'PeriodIndex', 'RangeIndex', 'Series', 'SparseDtype', 'StringDtype', 'Timedelta', 'TimedeltaIndex', 'Timestamp', 'UInt16Dtype', 'UInt32Dtype', 'UInt64Dtype', 'UInt64Index', 'UInt8Dtype', '__all__', '__builtins__', '__cached__', '__deprecated_num_index_names', '__dir__', '__doc__', '__docformat__', '__file__', '__getattr__', '__git_version__', '__loader__', '__name__', '__package__', '__path__', '__spec__', '__version__', '_config', '_is_numpy_dev', '_libs', '_testing', '_typing', '_version', 'annotations', 'api', 'array', 'arrays', 'bdate_range', 'compat', 'concat', 'core', 'crosstab', 'cut', 'date_range', 'describe_option', 'errors', 'eval', 'factorize', 'from_dummies', 'get_dummies', 'get_option', 'infer_freq', 'interval_range', 'io', 'isna', 'isnull', 'json_normalize', 'lreshape', 'melt', 'merge', 'merge_asof', 'merge_ordered', 'notna', 'notnull', 'offsets', 'option_context', 'options', 'pandas', 'period_range', 'pivot', 'pivot_table', 'plotting', 'qcut', 'read_clipboard', 'read_csv', 'read_excel', 'read_feather', 'read_fwf', 'read_gbq', 'read_hdf', 'read_html', 'read_json', 'read_orc', 'read_parquet', 'read_pickle', 'read_sas', 'read_spss', 'read_sql', 'read_sql_query', 'read_sql_table', 'read_stata', 'read_table', 'read_xml', 'reset_option', 'set_eng_float_format', 'set_option', 'show_versions', 'test', 'testing', 'timedelta_range', 'to_datetime', 'to_numeric', 'to_pickle', 'to_timedelta', 'tseries', 'unique', 'util', 'value_counts', 'wide_to_long']\n"
          ]
        }
      ]
    },
    {
      "cell_type": "markdown",
      "source": [
        "3. Mouting Google Drive"
      ],
      "metadata": {
        "id": "AtEGPDHb3uyD"
      }
    },
    {
      "cell_type": "markdown",
      "source": [
        "4. Reading the file\n",
        "\n",
        "  Printing the information of the given data\n",
        "\n",
        "   Printing the data"
      ],
      "metadata": {
        "id": "OzzVwvoXZDQb"
      }
    },
    {
      "cell_type": "code",
      "source": [
        "dataset = pd.read_csv(\"/content/drive/MyDrive/Python/Datasets/Heart_Rate.csv\")\n",
        "dataset.info()\n",
        "dataset"
      ],
      "metadata": {
        "colab": {
          "base_uri": "https://localhost:8080/",
          "height": 632
        },
        "id": "0au5DwN_d4dh",
        "outputId": "95dab63c-91b0-472e-c6fd-0c90a42d41ac"
      },
      "execution_count": null,
      "outputs": [
        {
          "output_type": "stream",
          "name": "stdout",
          "text": [
            "<class 'pandas.core.frame.DataFrame'>\n",
            "RangeIndex: 311 entries, 0 to 310\n",
            "Data columns (total 5 columns):\n",
            " #   Column    Non-Null Count  Dtype  \n",
            "---  ------    --------------  -----  \n",
            " 0   Duration  169 non-null    float64\n",
            " 1   Pulse     169 non-null    float64\n",
            " 2   Maxpulse  167 non-null    float64\n",
            " 3   Calories  164 non-null    float64\n",
            " 4   DOB       168 non-null    object \n",
            "dtypes: float64(4), object(1)\n",
            "memory usage: 12.3+ KB\n"
          ]
        },
        {
          "output_type": "execute_result",
          "data": {
            "text/plain": [
              "     Duration  Pulse  Maxpulse  Calories       DOB\n",
              "0        60.0  110.0     130.0     409.1  5/5/1975\n",
              "1        60.0  117.0     145.0     479.0  5/5/1975\n",
              "2        60.0  103.0     135.0     340.0       NaN\n",
              "3        45.0  109.0     175.0     282.4  5/7/1975\n",
              "4        45.0  117.0     148.0     406.0  9/8/1989\n",
              "..        ...    ...       ...       ...       ...\n",
              "306       NaN    NaN       NaN       NaN       NaN\n",
              "307       NaN    NaN       NaN       NaN       NaN\n",
              "308       NaN    NaN       NaN       NaN       NaN\n",
              "309       NaN    NaN       NaN       NaN       NaN\n",
              "310       NaN    NaN       NaN       NaN       NaN\n",
              "\n",
              "[311 rows x 5 columns]"
            ],
            "text/html": [
              "\n",
              "  <div id=\"df-dc20b68f-61d9-489d-a0c4-d0a8c472bf36\">\n",
              "    <div class=\"colab-df-container\">\n",
              "      <div>\n",
              "<style scoped>\n",
              "    .dataframe tbody tr th:only-of-type {\n",
              "        vertical-align: middle;\n",
              "    }\n",
              "\n",
              "    .dataframe tbody tr th {\n",
              "        vertical-align: top;\n",
              "    }\n",
              "\n",
              "    .dataframe thead th {\n",
              "        text-align: right;\n",
              "    }\n",
              "</style>\n",
              "<table border=\"1\" class=\"dataframe\">\n",
              "  <thead>\n",
              "    <tr style=\"text-align: right;\">\n",
              "      <th></th>\n",
              "      <th>Duration</th>\n",
              "      <th>Pulse</th>\n",
              "      <th>Maxpulse</th>\n",
              "      <th>Calories</th>\n",
              "      <th>DOB</th>\n",
              "    </tr>\n",
              "  </thead>\n",
              "  <tbody>\n",
              "    <tr>\n",
              "      <th>0</th>\n",
              "      <td>60.0</td>\n",
              "      <td>110.0</td>\n",
              "      <td>130.0</td>\n",
              "      <td>409.1</td>\n",
              "      <td>5/5/1975</td>\n",
              "    </tr>\n",
              "    <tr>\n",
              "      <th>1</th>\n",
              "      <td>60.0</td>\n",
              "      <td>117.0</td>\n",
              "      <td>145.0</td>\n",
              "      <td>479.0</td>\n",
              "      <td>5/5/1975</td>\n",
              "    </tr>\n",
              "    <tr>\n",
              "      <th>2</th>\n",
              "      <td>60.0</td>\n",
              "      <td>103.0</td>\n",
              "      <td>135.0</td>\n",
              "      <td>340.0</td>\n",
              "      <td>NaN</td>\n",
              "    </tr>\n",
              "    <tr>\n",
              "      <th>3</th>\n",
              "      <td>45.0</td>\n",
              "      <td>109.0</td>\n",
              "      <td>175.0</td>\n",
              "      <td>282.4</td>\n",
              "      <td>5/7/1975</td>\n",
              "    </tr>\n",
              "    <tr>\n",
              "      <th>4</th>\n",
              "      <td>45.0</td>\n",
              "      <td>117.0</td>\n",
              "      <td>148.0</td>\n",
              "      <td>406.0</td>\n",
              "      <td>9/8/1989</td>\n",
              "    </tr>\n",
              "    <tr>\n",
              "      <th>...</th>\n",
              "      <td>...</td>\n",
              "      <td>...</td>\n",
              "      <td>...</td>\n",
              "      <td>...</td>\n",
              "      <td>...</td>\n",
              "    </tr>\n",
              "    <tr>\n",
              "      <th>306</th>\n",
              "      <td>NaN</td>\n",
              "      <td>NaN</td>\n",
              "      <td>NaN</td>\n",
              "      <td>NaN</td>\n",
              "      <td>NaN</td>\n",
              "    </tr>\n",
              "    <tr>\n",
              "      <th>307</th>\n",
              "      <td>NaN</td>\n",
              "      <td>NaN</td>\n",
              "      <td>NaN</td>\n",
              "      <td>NaN</td>\n",
              "      <td>NaN</td>\n",
              "    </tr>\n",
              "    <tr>\n",
              "      <th>308</th>\n",
              "      <td>NaN</td>\n",
              "      <td>NaN</td>\n",
              "      <td>NaN</td>\n",
              "      <td>NaN</td>\n",
              "      <td>NaN</td>\n",
              "    </tr>\n",
              "    <tr>\n",
              "      <th>309</th>\n",
              "      <td>NaN</td>\n",
              "      <td>NaN</td>\n",
              "      <td>NaN</td>\n",
              "      <td>NaN</td>\n",
              "      <td>NaN</td>\n",
              "    </tr>\n",
              "    <tr>\n",
              "      <th>310</th>\n",
              "      <td>NaN</td>\n",
              "      <td>NaN</td>\n",
              "      <td>NaN</td>\n",
              "      <td>NaN</td>\n",
              "      <td>NaN</td>\n",
              "    </tr>\n",
              "  </tbody>\n",
              "</table>\n",
              "<p>311 rows × 5 columns</p>\n",
              "</div>\n",
              "      <button class=\"colab-df-convert\" onclick=\"convertToInteractive('df-dc20b68f-61d9-489d-a0c4-d0a8c472bf36')\"\n",
              "              title=\"Convert this dataframe to an interactive table.\"\n",
              "              style=\"display:none;\">\n",
              "        \n",
              "  <svg xmlns=\"http://www.w3.org/2000/svg\" height=\"24px\"viewBox=\"0 0 24 24\"\n",
              "       width=\"24px\">\n",
              "    <path d=\"M0 0h24v24H0V0z\" fill=\"none\"/>\n",
              "    <path d=\"M18.56 5.44l.94 2.06.94-2.06 2.06-.94-2.06-.94-.94-2.06-.94 2.06-2.06.94zm-11 1L8.5 8.5l.94-2.06 2.06-.94-2.06-.94L8.5 2.5l-.94 2.06-2.06.94zm10 10l.94 2.06.94-2.06 2.06-.94-2.06-.94-.94-2.06-.94 2.06-2.06.94z\"/><path d=\"M17.41 7.96l-1.37-1.37c-.4-.4-.92-.59-1.43-.59-.52 0-1.04.2-1.43.59L10.3 9.45l-7.72 7.72c-.78.78-.78 2.05 0 2.83L4 21.41c.39.39.9.59 1.41.59.51 0 1.02-.2 1.41-.59l7.78-7.78 2.81-2.81c.8-.78.8-2.07 0-2.86zM5.41 20L4 18.59l7.72-7.72 1.47 1.35L5.41 20z\"/>\n",
              "  </svg>\n",
              "      </button>\n",
              "      \n",
              "  <style>\n",
              "    .colab-df-container {\n",
              "      display:flex;\n",
              "      flex-wrap:wrap;\n",
              "      gap: 12px;\n",
              "    }\n",
              "\n",
              "    .colab-df-convert {\n",
              "      background-color: #E8F0FE;\n",
              "      border: none;\n",
              "      border-radius: 50%;\n",
              "      cursor: pointer;\n",
              "      display: none;\n",
              "      fill: #1967D2;\n",
              "      height: 32px;\n",
              "      padding: 0 0 0 0;\n",
              "      width: 32px;\n",
              "    }\n",
              "\n",
              "    .colab-df-convert:hover {\n",
              "      background-color: #E2EBFA;\n",
              "      box-shadow: 0px 1px 2px rgba(60, 64, 67, 0.3), 0px 1px 3px 1px rgba(60, 64, 67, 0.15);\n",
              "      fill: #174EA6;\n",
              "    }\n",
              "\n",
              "    [theme=dark] .colab-df-convert {\n",
              "      background-color: #3B4455;\n",
              "      fill: #D2E3FC;\n",
              "    }\n",
              "\n",
              "    [theme=dark] .colab-df-convert:hover {\n",
              "      background-color: #434B5C;\n",
              "      box-shadow: 0px 1px 3px 1px rgba(0, 0, 0, 0.15);\n",
              "      filter: drop-shadow(0px 1px 2px rgba(0, 0, 0, 0.3));\n",
              "      fill: #FFFFFF;\n",
              "    }\n",
              "  </style>\n",
              "\n",
              "      <script>\n",
              "        const buttonEl =\n",
              "          document.querySelector('#df-dc20b68f-61d9-489d-a0c4-d0a8c472bf36 button.colab-df-convert');\n",
              "        buttonEl.style.display =\n",
              "          google.colab.kernel.accessAllowed ? 'block' : 'none';\n",
              "\n",
              "        async function convertToInteractive(key) {\n",
              "          const element = document.querySelector('#df-dc20b68f-61d9-489d-a0c4-d0a8c472bf36');\n",
              "          const dataTable =\n",
              "            await google.colab.kernel.invokeFunction('convertToInteractive',\n",
              "                                                     [key], {});\n",
              "          if (!dataTable) return;\n",
              "\n",
              "          const docLinkHtml = 'Like what you see? Visit the ' +\n",
              "            '<a target=\"_blank\" href=https://colab.research.google.com/notebooks/data_table.ipynb>data table notebook</a>'\n",
              "            + ' to learn more about interactive tables.';\n",
              "          element.innerHTML = '';\n",
              "          dataTable['output_type'] = 'display_data';\n",
              "          await google.colab.output.renderOutput(dataTable, element);\n",
              "          const docLink = document.createElement('div');\n",
              "          docLink.innerHTML = docLinkHtml;\n",
              "          element.appendChild(docLink);\n",
              "        }\n",
              "      </script>\n",
              "    </div>\n",
              "  </div>\n",
              "  "
            ]
          },
          "metadata": {},
          "execution_count": 32
        }
      ]
    },
    {
      "cell_type": "markdown",
      "source": [
        "5. Finding the max number of non-null columns"
      ],
      "metadata": {
        "id": "dwcFn6GS369p"
      }
    },
    {
      "cell_type": "code",
      "source": [
        "lk = []\n",
        "for col in dataset.columns:\n",
        "  lk.append(dataset[col].notnull().sum())\n",
        "j = max(lk)\n",
        "dataset = dataset.head(j)\n",
        "dataset.info()"
      ],
      "metadata": {
        "colab": {
          "base_uri": "https://localhost:8080/"
        },
        "id": "ntW8GDMwosLy",
        "outputId": "a8f6aee5-6a56-4d05-874a-5461a649e7e9"
      },
      "execution_count": null,
      "outputs": [
        {
          "output_type": "stream",
          "name": "stdout",
          "text": [
            "<class 'pandas.core.frame.DataFrame'>\n",
            "RangeIndex: 169 entries, 0 to 168\n",
            "Data columns (total 5 columns):\n",
            " #   Column    Non-Null Count  Dtype  \n",
            "---  ------    --------------  -----  \n",
            " 0   Duration  169 non-null    float64\n",
            " 1   Pulse     169 non-null    float64\n",
            " 2   Maxpulse  167 non-null    float64\n",
            " 3   Calories  164 non-null    float64\n",
            " 4   DOB       168 non-null    object \n",
            "dtypes: float64(4), object(1)\n",
            "memory usage: 6.7+ KB\n"
          ]
        }
      ]
    },
    {
      "cell_type": "markdown",
      "source": [
        "6. Replacing the null value with suitable replacements"
      ],
      "metadata": {
        "id": "3uo2VNcx3_nh"
      }
    },
    {
      "cell_type": "code",
      "source": [
        "dataset.info()\n",
        "p = dataset['Pulse'].mean()\n",
        "dataset['Pulse'].fillna(p,inplace=True)\n",
        "mp = dataset['Maxpulse'].mode()[0]\n",
        "dataset['Maxpulse'].fillna(mp,inplace=True)\n",
        "cal = dataset['Calories'].mean()\n",
        "dataset['Calories'].fillna(cal,inplace=True)\n",
        "dataset.info()"
      ],
      "metadata": {
        "colab": {
          "base_uri": "https://localhost:8080/"
        },
        "id": "c5pPbnQAo5XR",
        "outputId": "7b0df3c8-9dd5-4711-f379-4b4fa0ca53f8"
      },
      "execution_count": null,
      "outputs": [
        {
          "output_type": "stream",
          "name": "stdout",
          "text": [
            "<class 'pandas.core.frame.DataFrame'>\n",
            "RangeIndex: 169 entries, 0 to 168\n",
            "Data columns (total 5 columns):\n",
            " #   Column    Non-Null Count  Dtype  \n",
            "---  ------    --------------  -----  \n",
            " 0   Duration  169 non-null    float64\n",
            " 1   Pulse     169 non-null    float64\n",
            " 2   Maxpulse  169 non-null    float64\n",
            " 3   Calories  169 non-null    float64\n",
            " 4   DOB       169 non-null    object \n",
            "dtypes: float64(4), object(1)\n",
            "memory usage: 6.7+ KB\n",
            "<class 'pandas.core.frame.DataFrame'>\n",
            "RangeIndex: 169 entries, 0 to 168\n",
            "Data columns (total 5 columns):\n",
            " #   Column    Non-Null Count  Dtype  \n",
            "---  ------    --------------  -----  \n",
            " 0   Duration  169 non-null    float64\n",
            " 1   Pulse     169 non-null    float64\n",
            " 2   Maxpulse  169 non-null    float64\n",
            " 3   Calories  169 non-null    float64\n",
            " 4   DOB       169 non-null    object \n",
            "dtypes: float64(4), object(1)\n",
            "memory usage: 6.7+ KB\n"
          ]
        },
        {
          "output_type": "stream",
          "name": "stderr",
          "text": [
            "<ipython-input-38-6f3a129dfc25>:3: SettingWithCopyWarning: \n",
            "A value is trying to be set on a copy of a slice from a DataFrame\n",
            "\n",
            "See the caveats in the documentation: https://pandas.pydata.org/pandas-docs/stable/user_guide/indexing.html#returning-a-view-versus-a-copy\n",
            "  dataset['Pulse'].fillna(p,inplace=True)\n",
            "<ipython-input-38-6f3a129dfc25>:5: SettingWithCopyWarning: \n",
            "A value is trying to be set on a copy of a slice from a DataFrame\n",
            "\n",
            "See the caveats in the documentation: https://pandas.pydata.org/pandas-docs/stable/user_guide/indexing.html#returning-a-view-versus-a-copy\n",
            "  dataset['Maxpulse'].fillna(mp,inplace=True)\n",
            "<ipython-input-38-6f3a129dfc25>:7: SettingWithCopyWarning: \n",
            "A value is trying to be set on a copy of a slice from a DataFrame\n",
            "\n",
            "See the caveats in the documentation: https://pandas.pydata.org/pandas-docs/stable/user_guide/indexing.html#returning-a-view-versus-a-copy\n",
            "  dataset['Calories'].fillna(cal,inplace=True)\n"
          ]
        }
      ]
    },
    {
      "cell_type": "markdown",
      "source": [
        "7. Filling the N/A dates with current date"
      ],
      "metadata": {
        "id": "wjsXdoWq4Mxk"
      }
    },
    {
      "cell_type": "code",
      "source": [
        "from datetime import datetime\n",
        "now = datetime.now()\n",
        "current_date = now.strftime('%d/%m/%Y')\n",
        "dataset[\"DOB\"].fillna(current_date, inplace=True)\n",
        "dataset.info()\n",
        "print(dataset.to_string())"
      ],
      "metadata": {
        "colab": {
          "base_uri": "https://localhost:8080/"
        },
        "id": "oUtioj2VtKIi",
        "outputId": "fe6e7795-8ba3-41b4-86c5-54d817734b63"
      },
      "execution_count": null,
      "outputs": [
        {
          "output_type": "stream",
          "name": "stdout",
          "text": [
            "<class 'pandas.core.frame.DataFrame'>\n",
            "RangeIndex: 169 entries, 0 to 168\n",
            "Data columns (total 5 columns):\n",
            " #   Column    Non-Null Count  Dtype  \n",
            "---  ------    --------------  -----  \n",
            " 0   Duration  169 non-null    float64\n",
            " 1   Pulse     169 non-null    float64\n",
            " 2   Maxpulse  169 non-null    float64\n",
            " 3   Calories  169 non-null    float64\n",
            " 4   DOB       169 non-null    object \n",
            "dtypes: float64(4), object(1)\n",
            "memory usage: 6.7+ KB\n",
            "     Duration   Pulse  Maxpulse     Calories         DOB\n",
            "0        60.0   110.0     130.0   409.100000  05/05/1975\n",
            "1        60.0   117.0     145.0   479.000000  05/05/1975\n",
            "2        60.0   103.0     135.0   340.000000  19/05/2023\n",
            "3        45.0   109.0     175.0   282.400000  05/07/1975\n",
            "4        45.0   117.0     148.0   406.000000  09/08/1989\n",
            "5        60.0   102.0     127.0   300.000000  09/09/1989\n",
            "6        60.0   110.0     136.0   374.000000  05/05/1975\n",
            "7        45.0   104.0     134.0   253.300000  05/06/1975\n",
            "8        30.0   109.0     120.0   195.100000  05/07/1975\n",
            "9        60.0    98.0     124.0   269.000000  01/07/1988\n",
            "10       60.0   103.0     147.0   329.300000  01/08/1988\n",
            "11       60.0   100.0     120.0   250.700000  01/09/1988\n",
            "12       60.0   106.0     128.0   345.300000  07/04/1988\n",
            "13       60.0   104.0     132.0   379.300000  07/05/1988\n",
            "14       60.0    98.0     123.0   275.000000  07/06/1988\n",
            "15       60.0  1000.0     120.0   215.200000  07/07/1988\n",
            "16       60.0   100.0     120.0   300.000000  07/08/1988\n",
            "17       45.0    90.0     112.0   375.790244  07/09/1988\n",
            "18       60.0   103.0     123.0   323.000000  04/04/1986\n",
            "19       45.0    97.0     120.0   243.000000  04/06/1979\n",
            "20       60.0   108.0     131.0   364.200000  04/07/1979\n",
            "21       45.0   100.0     119.0   282.000000  04/08/1979\n",
            "22       60.0   130.0     101.0   300.000000  09/01/1989\n",
            "23       45.0   105.0     132.0   246.000000  09/02/1989\n",
            "24       60.0   102.0     126.0   334.500000  09/03/1989\n",
            "25       60.0   100.0     120.0   250.000000  09/04/1989\n",
            "26       60.0    92.0     118.0   241.000000  04/04/1987\n",
            "27       60.0   103.0     132.0   375.790244  04/05/1987\n",
            "28       60.0   100.0     132.0   280.000000  04/06/1987\n",
            "29       60.0   102.0     129.0   380.300000  04/07/1987\n",
            "30       60.0    92.0     115.0   243.000000  04/08/1987\n",
            "31       45.0    90.0     112.0   180.100000  04/09/1987\n",
            "32       60.0   101.0     124.0   299.000000  06/01/1964\n",
            "33       60.0    93.0     113.0   223.000000  03/02/1980\n",
            "34       60.0   107.0     136.0   361.000000  03/03/1980\n",
            "35       60.0   114.0     140.0   415.000000  03/04/1980\n",
            "36       60.0   102.0     127.0   300.000000  08/09/1983\n",
            "37       60.0   100.0     120.0   300.000000  04/05/1987\n",
            "38       60.0   100.0     120.0   300.000000  02/02/1983\n",
            "39       45.0   104.0     129.0   266.000000  06/06/1986\n",
            "40       45.0    90.0     112.0   180.100000  06/07/1986\n",
            "41       60.0    98.0     126.0   286.000000  01/02/1951\n",
            "42       60.0   100.0     122.0   329.400000  02/09/1972\n",
            "43      160.0   111.0     138.0   400.000000  01/02/1951\n",
            "44       60.0   111.0     131.0   397.000000  01/03/1951\n",
            "45       60.0    99.0     119.0   273.000000  01/04/1951\n",
            "46       60.0   109.0     153.0   387.600000  01/05/1951\n",
            "47       45.0   111.0     136.0   300.000000  01/06/1951\n",
            "48       45.0   108.0     129.0   298.000000  09/05/1985\n",
            "49       60.0   111.0     139.0   397.600000  09/04/1989\n",
            "50       60.0   107.0     136.0   380.200000  04/04/1987\n",
            "51       80.0   123.0     146.0   643.100000  04/05/1987\n",
            "52       60.0   106.0     130.0   263.000000  04/06/1987\n",
            "53       60.0   118.0     151.0   486.000000  04/07/1987\n",
            "54       30.0   136.0     175.0   238.000000  04/08/1987\n",
            "55       60.0   121.0     146.0   450.700000  04/09/1987\n",
            "56       60.0   118.0     121.0   413.000000  06/01/1964\n",
            "57       45.0   115.0     144.0   305.000000  03/02/1980\n",
            "58       20.0   153.0     172.0   226.400000  03/03/1980\n",
            "59       45.0   123.0     152.0   321.000000  03/04/1980\n",
            "60      210.0   108.0     160.0  1376.000000  08/09/1983\n",
            "61      160.0   110.0     137.0  1034.400000  04/05/1987\n",
            "62      160.0   109.0     135.0   853.000000  02/02/1983\n",
            "63       45.0   118.0     141.0   341.000000  06/06/1986\n",
            "64       20.0   110.0     130.0   131.400000  06/07/1986\n",
            "65      180.0    90.0     130.0   800.400000  01/02/1951\n",
            "66      150.0   105.0     135.0   873.400000  02/09/1972\n",
            "67      150.0   107.0     130.0   816.000000  01/02/1951\n",
            "68       20.0   106.0     136.0   110.400000  01/03/1951\n",
            "69      300.0   108.0     143.0  1500.200000  01/04/1951\n",
            "70      150.0    97.0     129.0  1115.000000  01/05/1951\n",
            "71       60.0   109.0     153.0   387.600000  01/06/1951\n",
            "72       90.0   100.0     127.0   700.000000  09/05/1985\n",
            "73      150.0    97.0     127.0   953.200000  01/04/1951\n",
            "74       45.0   114.0     146.0   304.000000  01/05/1951\n",
            "75       90.0    98.0     125.0   563.200000  01/06/1951\n",
            "76       45.0   105.0     134.0   251.000000  09/05/1985\n",
            "77       45.0   110.0     141.0   300.000000  09/04/1989\n",
            "78      120.0   100.0     130.0   500.400000  04/04/1987\n",
            "79      270.0   100.0     131.0  1729.000000  04/05/1987\n",
            "80       30.0   159.0     182.0   319.200000  04/06/1987\n",
            "81       45.0   149.0     169.0   344.000000  04/07/1987\n",
            "82       30.0   103.0     139.0   151.100000  04/08/1987\n",
            "83      120.0   100.0     130.0   500.000000  04/09/1987\n",
            "84       45.0   100.0     120.0   225.300000  06/01/1964\n",
            "85       30.0   151.0     170.0   300.000000  03/02/1980\n",
            "86       45.0   102.0     136.0   234.000000  03/03/1980\n",
            "87      120.0   100.0     157.0  1000.100000  03/04/1980\n",
            "88       45.0   129.0     103.0   242.000000  08/09/1983\n",
            "89       20.0    83.0     107.0    50.300000  01/04/1951\n",
            "90      180.0   101.0     127.0   600.100000  01/05/1951\n",
            "91       45.0   107.0     137.0   375.790244  01/06/1951\n",
            "92      -20.0    90.0     107.0   105.300000  09/05/1985\n",
            "93       15.0    80.0     100.0    50.500000  09/04/1989\n",
            "94       20.0   150.0     171.0   127.400000  04/04/1987\n",
            "95       20.0   151.0     168.0   229.400000  04/05/1987\n",
            "96       30.0    95.0     128.0   128.200000  04/06/1987\n",
            "97       25.0   152.0     168.0   244.200000  04/07/1987\n",
            "98       30.0   109.0     131.0   188.200000  04/08/1987\n",
            "99       90.0    93.0     124.0   604.100000  04/09/1987\n",
            "100      20.0    95.0     112.0    77.700000  06/01/1964\n",
            "101      90.0    90.0     110.0   500.000000  03/02/1980\n",
            "102      90.0    90.0     100.0   500.000000  03/03/1980\n",
            "103      90.0    90.0     100.0   500.400000  03/04/1980\n",
            "104      30.0    92.0     108.0    92.700000  08/09/1983\n",
            "105      30.0    93.0     128.0   124.000000  08/09/1974\n",
            "106     180.0    90.0     120.0   800.300000  05/08/1980\n",
            "107      30.0    90.0     120.0    86.200000  08/09/1983\n",
            "108      90.0    90.0     120.0   500.300000  01/04/1951\n",
            "109     210.0   137.0     184.0  1860.400000  01/05/1951\n",
            "110      60.0   102.0     124.0   325.200000  01/06/1951\n",
            "111      45.0   107.0     124.0   275.000000  09/05/1985\n",
            "112      15.0   124.0     139.0   124.200000  09/04/1989\n",
            "113      45.0   100.0     120.0   225.300000  04/04/1987\n",
            "114      60.0   108.0     131.0   367.600000  04/05/1987\n",
            "115      60.0   108.0     151.0   351.700000  04/06/1987\n",
            "116      60.0   116.0     141.0   443.000000  04/07/1987\n",
            "117      60.0    97.0     122.0   277.400000  04/08/1987\n",
            "118      60.0   105.0     125.0   375.790244  04/09/1987\n",
            "119      60.0   103.0     124.0   332.700000  06/01/1964\n",
            "120      30.0   112.0     137.0   193.900000  03/02/1980\n",
            "121      45.0   100.0     120.0   100.700000  03/03/1980\n",
            "122      60.0   119.0     169.0   336.700000  03/04/1980\n",
            "123      60.0   107.0     127.0   344.900000  08/09/1983\n",
            "124      60.0   111.0     151.0   368.500000  08/09/1983\n",
            "125      60.0    98.0     122.0   271.000000  01/04/1951\n",
            "126      60.0    97.0     124.0   275.300000  01/05/1951\n",
            "127      60.0   109.0     127.0   382.000000  01/06/1951\n",
            "128      90.0    99.0     125.0   466.400000  09/05/1985\n",
            "129      60.0   114.0     151.0   384.000000  09/04/1989\n",
            "130      60.0   104.0     134.0   342.500000  04/04/1987\n",
            "131      60.0   107.0     138.0   357.500000  04/05/1987\n",
            "132      60.0   103.0     133.0   335.000000  04/06/1987\n",
            "133      60.0   106.0     132.0   327.500000  04/07/1987\n",
            "134      60.0   103.0     136.0   339.000000  04/08/1987\n",
            "135      20.0   136.0     156.0   189.000000  04/09/1987\n",
            "136      45.0   117.0     143.0   317.700000  06/01/1964\n",
            "137      45.0   115.0     137.0   318.000000  03/02/1980\n",
            "138      45.0   113.0     138.0   308.000000  03/03/1980\n",
            "139      20.0   141.0     162.0   222.400000  03/04/1980\n",
            "140      60.0   108.0     135.0   390.000000  08/09/1983\n",
            "141      60.0    97.0     127.0   375.790244  08/09/1983\n",
            "142      45.0   100.0     120.0   250.400000  01/04/1951\n",
            "143      45.0   122.0     149.0   335.400000  01/05/1951\n",
            "144      60.0   136.0     170.0   470.200000  01/06/1951\n",
            "145      45.0   106.0     126.0   270.800000  09/05/1985\n",
            "146      60.0   107.0     136.0   400.000000  09/04/1989\n",
            "147      60.0   112.0     146.0   361.900000  04/04/1987\n",
            "148      30.0   103.0     127.0   185.000000  04/05/1987\n",
            "149      60.0   110.0     150.0   409.400000  04/06/1987\n",
            "150      60.0   106.0     134.0   343.000000  04/07/1987\n",
            "151      60.0   109.0     129.0   353.200000  04/08/1987\n",
            "152      60.0   109.0     138.0   374.000000  04/09/1987\n",
            "153      30.0   150.0     167.0   275.800000  06/01/1964\n",
            "154      60.0   105.0     128.0   328.000000  19/05/2023\n",
            "155      60.0   111.0     151.0   368.500000  03/03/1980\n",
            "156      60.0    97.0     131.0   270.400000  03/04/1980\n",
            "157      60.0   100.0     120.0   270.400000  08/09/1983\n",
            "158      60.0   114.0     150.0   382.800000  08/09/1983\n",
            "159      30.0    80.0     120.0   240.900000  01/04/1951\n",
            "160      30.0    85.0     120.0   250.400000  01/05/1951\n",
            "161      45.0    90.0     130.0   260.400000  01/06/1951\n",
            "162      45.0    95.0     130.0   270.000000  09/05/1985\n",
            "163      45.0   100.0     140.0   280.900000  09/04/1989\n",
            "164      60.0   105.0     140.0   290.800000  04/04/1987\n",
            "165      60.0   110.0     145.0   300.000000  04/05/1987\n",
            "166      60.0   115.0     145.0   310.200000  04/06/1987\n",
            "167      75.0   120.0     150.0   320.400000  04/07/1987\n",
            "168      75.0   125.0     150.0   330.400000  04/08/1987\n"
          ]
        },
        {
          "output_type": "stream",
          "name": "stderr",
          "text": [
            "<ipython-input-39-a62a1483d88b>:4: SettingWithCopyWarning: \n",
            "A value is trying to be set on a copy of a slice from a DataFrame\n",
            "\n",
            "See the caveats in the documentation: https://pandas.pydata.org/pandas-docs/stable/user_guide/indexing.html#returning-a-view-versus-a-copy\n",
            "  dataset[\"DOB\"].fillna(current_date, inplace=True)\n"
          ]
        }
      ]
    },
    {
      "cell_type": "markdown",
      "source": [
        "8. Correcting the date format"
      ],
      "metadata": {
        "id": "v3l6d-k44S5w"
      }
    },
    {
      "cell_type": "code",
      "source": [
        "c = 0\n",
        "for i in range(169):\n",
        "  d = []\n",
        "  a,b,c = map(int, (dataset['DOB'][i]).split('/'))\n",
        "  date = a\n",
        "  month = b\n",
        "  year = c\n",
        "  if a>31:\n",
        "    if b>12:\n",
        "      year = a\n",
        "      date = b\n",
        "      month = c\n",
        "    elif c>12:\n",
        "      year = a\n",
        "      month = b\n",
        "      date = c\n",
        "  elif b>31:\n",
        "    if a>12:\n",
        "      year = b\n",
        "      date = a\n",
        "      month = c\n",
        "    elif c>12:\n",
        "      year = b\n",
        "      date = c\n",
        "      month = a\n",
        "  elif c>31:\n",
        "    if a>12:\n",
        "      year = c\n",
        "      date = a\n",
        "      month = b\n",
        "    elif b>12:\n",
        "      year = c\n",
        "      date = b\n",
        "      month = a\n",
        "  if year>=int(now.strftime('%Y')):\n",
        "    if month>=int(now.strftime('%m')):\n",
        "      if(date>=int(now.strftime('%d'))):\n",
        "        date = int(now.strftime('%d'))\n",
        "      month = int(now.strftime('%m'))\n",
        "    year = now.strftime('%Y')\n",
        "  d.append(str(date))\n",
        "  d.append(str(month))\n",
        "  d.append(str(year))\n",
        "  x = '/'.join(d)\n",
        "  y = datetime.strptime(x,'%d/%m/%Y')\n",
        "  y = str(y.strftime('%d/%m/%Y'))\n",
        "  ewq = str(y)\n",
        "  dataset['DOB'][i] = ewq\n",
        "dataset.info()\n",
        "print(dataset.to_string())"
      ],
      "metadata": {
        "colab": {
          "base_uri": "https://localhost:8080/"
        },
        "id": "LnQ8nUBZwHfu",
        "outputId": "5e9f01dc-cbb7-4c49-b1fa-6aa4cc2a6da1"
      },
      "execution_count": null,
      "outputs": [
        {
          "output_type": "stream",
          "name": "stdout",
          "text": [
            "<class 'pandas.core.frame.DataFrame'>\n",
            "RangeIndex: 169 entries, 0 to 168\n",
            "Data columns (total 5 columns):\n",
            " #   Column    Non-Null Count  Dtype  \n",
            "---  ------    --------------  -----  \n",
            " 0   Duration  169 non-null    float64\n",
            " 1   Pulse     169 non-null    float64\n",
            " 2   Maxpulse  169 non-null    float64\n",
            " 3   Calories  169 non-null    float64\n",
            " 4   DOB       169 non-null    object \n",
            "dtypes: float64(4), object(1)\n",
            "memory usage: 6.7+ KB\n",
            "     Duration   Pulse  Maxpulse     Calories         DOB\n",
            "0        60.0   110.0     130.0   409.100000  05/05/1975\n",
            "1        60.0   117.0     145.0   479.000000  05/05/1975\n",
            "2        60.0   103.0     135.0   340.000000  19/05/2023\n",
            "3        45.0   109.0     175.0   282.400000  05/07/1975\n",
            "4        45.0   117.0     148.0   406.000000  09/08/1989\n",
            "5        60.0   102.0     127.0   300.000000  09/09/1989\n",
            "6        60.0   110.0     136.0   374.000000  05/05/1975\n",
            "7        45.0   104.0     134.0   253.300000  05/06/1975\n",
            "8        30.0   109.0     120.0   195.100000  05/07/1975\n",
            "9        60.0    98.0     124.0   269.000000  01/07/1988\n",
            "10       60.0   103.0     147.0   329.300000  01/08/1988\n",
            "11       60.0   100.0     120.0   250.700000  01/09/1988\n",
            "12       60.0   106.0     128.0   345.300000  07/04/1988\n",
            "13       60.0   104.0     132.0   379.300000  07/05/1988\n",
            "14       60.0    98.0     123.0   275.000000  07/06/1988\n",
            "15       60.0  1000.0     120.0   215.200000  07/07/1988\n",
            "16       60.0   100.0     120.0   300.000000  07/08/1988\n",
            "17       45.0    90.0     112.0   375.790244  07/09/1988\n",
            "18       60.0   103.0     123.0   323.000000  04/04/1986\n",
            "19       45.0    97.0     120.0   243.000000  04/06/1979\n",
            "20       60.0   108.0     131.0   364.200000  04/07/1979\n",
            "21       45.0   100.0     119.0   282.000000  04/08/1979\n",
            "22       60.0   130.0     101.0   300.000000  09/01/1989\n",
            "23       45.0   105.0     132.0   246.000000  09/02/1989\n",
            "24       60.0   102.0     126.0   334.500000  09/03/1989\n",
            "25       60.0   100.0     120.0   250.000000  09/04/1989\n",
            "26       60.0    92.0     118.0   241.000000  04/04/1987\n",
            "27       60.0   103.0     132.0   375.790244  04/05/1987\n",
            "28       60.0   100.0     132.0   280.000000  04/06/1987\n",
            "29       60.0   102.0     129.0   380.300000  04/07/1987\n",
            "30       60.0    92.0     115.0   243.000000  04/08/1987\n",
            "31       45.0    90.0     112.0   180.100000  04/09/1987\n",
            "32       60.0   101.0     124.0   299.000000  06/01/1964\n",
            "33       60.0    93.0     113.0   223.000000  03/02/1980\n",
            "34       60.0   107.0     136.0   361.000000  03/03/1980\n",
            "35       60.0   114.0     140.0   415.000000  03/04/1980\n",
            "36       60.0   102.0     127.0   300.000000  08/09/1983\n",
            "37       60.0   100.0     120.0   300.000000  04/05/1987\n",
            "38       60.0   100.0     120.0   300.000000  02/02/1983\n",
            "39       45.0   104.0     129.0   266.000000  06/06/1986\n",
            "40       45.0    90.0     112.0   180.100000  06/07/1986\n",
            "41       60.0    98.0     126.0   286.000000  01/02/1951\n",
            "42       60.0   100.0     122.0   329.400000  02/09/1972\n",
            "43      160.0   111.0     138.0   400.000000  01/02/1951\n",
            "44       60.0   111.0     131.0   397.000000  01/03/1951\n",
            "45       60.0    99.0     119.0   273.000000  01/04/1951\n",
            "46       60.0   109.0     153.0   387.600000  01/05/1951\n",
            "47       45.0   111.0     136.0   300.000000  01/06/1951\n",
            "48       45.0   108.0     129.0   298.000000  09/05/1985\n",
            "49       60.0   111.0     139.0   397.600000  09/04/1989\n",
            "50       60.0   107.0     136.0   380.200000  04/04/1987\n",
            "51       80.0   123.0     146.0   643.100000  04/05/1987\n",
            "52       60.0   106.0     130.0   263.000000  04/06/1987\n",
            "53       60.0   118.0     151.0   486.000000  04/07/1987\n",
            "54       30.0   136.0     175.0   238.000000  04/08/1987\n",
            "55       60.0   121.0     146.0   450.700000  04/09/1987\n",
            "56       60.0   118.0     121.0   413.000000  06/01/1964\n",
            "57       45.0   115.0     144.0   305.000000  03/02/1980\n",
            "58       20.0   153.0     172.0   226.400000  03/03/1980\n",
            "59       45.0   123.0     152.0   321.000000  03/04/1980\n",
            "60      210.0   108.0     160.0  1376.000000  08/09/1983\n",
            "61      160.0   110.0     137.0  1034.400000  04/05/1987\n",
            "62      160.0   109.0     135.0   853.000000  02/02/1983\n",
            "63       45.0   118.0     141.0   341.000000  06/06/1986\n",
            "64       20.0   110.0     130.0   131.400000  06/07/1986\n",
            "65      180.0    90.0     130.0   800.400000  01/02/1951\n",
            "66      150.0   105.0     135.0   873.400000  02/09/1972\n",
            "67      150.0   107.0     130.0   816.000000  01/02/1951\n",
            "68       20.0   106.0     136.0   110.400000  01/03/1951\n",
            "69      300.0   108.0     143.0  1500.200000  01/04/1951\n",
            "70      150.0    97.0     129.0  1115.000000  01/05/1951\n",
            "71       60.0   109.0     153.0   387.600000  01/06/1951\n",
            "72       90.0   100.0     127.0   700.000000  09/05/1985\n",
            "73      150.0    97.0     127.0   953.200000  01/04/1951\n",
            "74       45.0   114.0     146.0   304.000000  01/05/1951\n",
            "75       90.0    98.0     125.0   563.200000  01/06/1951\n",
            "76       45.0   105.0     134.0   251.000000  09/05/1985\n",
            "77       45.0   110.0     141.0   300.000000  09/04/1989\n",
            "78      120.0   100.0     130.0   500.400000  04/04/1987\n",
            "79      270.0   100.0     131.0  1729.000000  04/05/1987\n",
            "80       30.0   159.0     182.0   319.200000  04/06/1987\n",
            "81       45.0   149.0     169.0   344.000000  04/07/1987\n",
            "82       30.0   103.0     139.0   151.100000  04/08/1987\n",
            "83      120.0   100.0     130.0   500.000000  04/09/1987\n",
            "84       45.0   100.0     120.0   225.300000  06/01/1964\n",
            "85       30.0   151.0     170.0   300.000000  03/02/1980\n",
            "86       45.0   102.0     136.0   234.000000  03/03/1980\n",
            "87      120.0   100.0     157.0  1000.100000  03/04/1980\n",
            "88       45.0   129.0     103.0   242.000000  08/09/1983\n",
            "89       20.0    83.0     107.0    50.300000  01/04/1951\n",
            "90      180.0   101.0     127.0   600.100000  01/05/1951\n",
            "91       45.0   107.0     137.0   375.790244  01/06/1951\n",
            "92      -20.0    90.0     107.0   105.300000  09/05/1985\n",
            "93       15.0    80.0     100.0    50.500000  09/04/1989\n",
            "94       20.0   150.0     171.0   127.400000  04/04/1987\n",
            "95       20.0   151.0     168.0   229.400000  04/05/1987\n",
            "96       30.0    95.0     128.0   128.200000  04/06/1987\n",
            "97       25.0   152.0     168.0   244.200000  04/07/1987\n",
            "98       30.0   109.0     131.0   188.200000  04/08/1987\n",
            "99       90.0    93.0     124.0   604.100000  04/09/1987\n",
            "100      20.0    95.0     112.0    77.700000  06/01/1964\n",
            "101      90.0    90.0     110.0   500.000000  03/02/1980\n",
            "102      90.0    90.0     100.0   500.000000  03/03/1980\n",
            "103      90.0    90.0     100.0   500.400000  03/04/1980\n",
            "104      30.0    92.0     108.0    92.700000  08/09/1983\n",
            "105      30.0    93.0     128.0   124.000000  08/09/1974\n",
            "106     180.0    90.0     120.0   800.300000  05/08/1980\n",
            "107      30.0    90.0     120.0    86.200000  08/09/1983\n",
            "108      90.0    90.0     120.0   500.300000  01/04/1951\n",
            "109     210.0   137.0     184.0  1860.400000  01/05/1951\n",
            "110      60.0   102.0     124.0   325.200000  01/06/1951\n",
            "111      45.0   107.0     124.0   275.000000  09/05/1985\n",
            "112      15.0   124.0     139.0   124.200000  09/04/1989\n",
            "113      45.0   100.0     120.0   225.300000  04/04/1987\n",
            "114      60.0   108.0     131.0   367.600000  04/05/1987\n",
            "115      60.0   108.0     151.0   351.700000  04/06/1987\n",
            "116      60.0   116.0     141.0   443.000000  04/07/1987\n",
            "117      60.0    97.0     122.0   277.400000  04/08/1987\n",
            "118      60.0   105.0     125.0   375.790244  04/09/1987\n",
            "119      60.0   103.0     124.0   332.700000  06/01/1964\n",
            "120      30.0   112.0     137.0   193.900000  03/02/1980\n",
            "121      45.0   100.0     120.0   100.700000  03/03/1980\n",
            "122      60.0   119.0     169.0   336.700000  03/04/1980\n",
            "123      60.0   107.0     127.0   344.900000  08/09/1983\n",
            "124      60.0   111.0     151.0   368.500000  08/09/1983\n",
            "125      60.0    98.0     122.0   271.000000  01/04/1951\n",
            "126      60.0    97.0     124.0   275.300000  01/05/1951\n",
            "127      60.0   109.0     127.0   382.000000  01/06/1951\n",
            "128      90.0    99.0     125.0   466.400000  09/05/1985\n",
            "129      60.0   114.0     151.0   384.000000  09/04/1989\n",
            "130      60.0   104.0     134.0   342.500000  04/04/1987\n",
            "131      60.0   107.0     138.0   357.500000  04/05/1987\n",
            "132      60.0   103.0     133.0   335.000000  04/06/1987\n",
            "133      60.0   106.0     132.0   327.500000  04/07/1987\n",
            "134      60.0   103.0     136.0   339.000000  04/08/1987\n",
            "135      20.0   136.0     156.0   189.000000  04/09/1987\n",
            "136      45.0   117.0     143.0   317.700000  06/01/1964\n",
            "137      45.0   115.0     137.0   318.000000  03/02/1980\n",
            "138      45.0   113.0     138.0   308.000000  03/03/1980\n",
            "139      20.0   141.0     162.0   222.400000  03/04/1980\n",
            "140      60.0   108.0     135.0   390.000000  08/09/1983\n",
            "141      60.0    97.0     127.0   375.790244  08/09/1983\n",
            "142      45.0   100.0     120.0   250.400000  01/04/1951\n",
            "143      45.0   122.0     149.0   335.400000  01/05/1951\n",
            "144      60.0   136.0     170.0   470.200000  01/06/1951\n",
            "145      45.0   106.0     126.0   270.800000  09/05/1985\n",
            "146      60.0   107.0     136.0   400.000000  09/04/1989\n",
            "147      60.0   112.0     146.0   361.900000  04/04/1987\n",
            "148      30.0   103.0     127.0   185.000000  04/05/1987\n",
            "149      60.0   110.0     150.0   409.400000  04/06/1987\n",
            "150      60.0   106.0     134.0   343.000000  04/07/1987\n",
            "151      60.0   109.0     129.0   353.200000  04/08/1987\n",
            "152      60.0   109.0     138.0   374.000000  04/09/1987\n",
            "153      30.0   150.0     167.0   275.800000  06/01/1964\n",
            "154      60.0   105.0     128.0   328.000000  19/05/2023\n",
            "155      60.0   111.0     151.0   368.500000  03/03/1980\n",
            "156      60.0    97.0     131.0   270.400000  03/04/1980\n",
            "157      60.0   100.0     120.0   270.400000  08/09/1983\n",
            "158      60.0   114.0     150.0   382.800000  08/09/1983\n",
            "159      30.0    80.0     120.0   240.900000  01/04/1951\n",
            "160      30.0    85.0     120.0   250.400000  01/05/1951\n",
            "161      45.0    90.0     130.0   260.400000  01/06/1951\n",
            "162      45.0    95.0     130.0   270.000000  09/05/1985\n",
            "163      45.0   100.0     140.0   280.900000  09/04/1989\n",
            "164      60.0   105.0     140.0   290.800000  04/04/1987\n",
            "165      60.0   110.0     145.0   300.000000  04/05/1987\n",
            "166      60.0   115.0     145.0   310.200000  04/06/1987\n",
            "167      75.0   120.0     150.0   320.400000  04/07/1987\n",
            "168      75.0   125.0     150.0   330.400000  04/08/1987\n"
          ]
        },
        {
          "output_type": "stream",
          "name": "stderr",
          "text": [
            "<ipython-input-40-d5d0af62103c>:48: SettingWithCopyWarning: \n",
            "A value is trying to be set on a copy of a slice from a DataFrame\n",
            "\n",
            "See the caveats in the documentation: https://pandas.pydata.org/pandas-docs/stable/user_guide/indexing.html#returning-a-view-versus-a-copy\n",
            "  dataset['DOB'][i] = ewq\n"
          ]
        }
      ]
    },
    {
      "cell_type": "markdown",
      "source": [
        "--> Some other codes with variation working on diffrent dataset"
      ],
      "metadata": {
        "id": "dubffiO64ZyT"
      }
    },
    {
      "cell_type": "markdown",
      "source": [
        "1. Reading the file and Analysing the data"
      ],
      "metadata": {
        "id": "y9t7di7q4n9l"
      }
    },
    {
      "cell_type": "code",
      "source": [
        "dataset = pd.read_csv(\"/content/drive/MyDrive/Python/Datasets/Heart_Rate_2.csv\")\n",
        "\n",
        "print(dataset.head(10)) #first 10 lines\n",
        "print(dataset.head()) #first 5 line\n",
        "print(dataset.tail()) #last 5 lines\n",
        "print(dataset.info())"
      ],
      "metadata": {
        "colab": {
          "base_uri": "https://localhost:8080/"
        },
        "id": "QNRDzU5P4sEU",
        "outputId": "fce66f7f-f738-4a7d-dfa4-9b344fffbfcc"
      },
      "execution_count": null,
      "outputs": [
        {
          "output_type": "stream",
          "name": "stdout",
          "text": [
            "   Duration  Pulse  Maxpulse  Calories\n",
            "0        60    110       130     409.1\n",
            "1        60    117       145     479.0\n",
            "2        60    103       135     340.0\n",
            "3        45    109       175     282.4\n",
            "4        45    117       148     406.0\n",
            "5        60    102       127     300.0\n",
            "6        60    110       136     374.0\n",
            "7        45    104       134     253.3\n",
            "8        30    109       133     195.1\n",
            "9        60     98       124     269.0\n",
            "   Duration  Pulse  Maxpulse  Calories\n",
            "0        60    110       130     409.1\n",
            "1        60    117       145     479.0\n",
            "2        60    103       135     340.0\n",
            "3        45    109       175     282.4\n",
            "4        45    117       148     406.0\n",
            "     Duration  Pulse  Maxpulse  Calories\n",
            "164        60    105       140     290.8\n",
            "165        60    110       145     300.0\n",
            "166        60    115       145     310.2\n",
            "167        75    120       150     320.4\n",
            "168        75    125       150     330.4\n",
            "<class 'pandas.core.frame.DataFrame'>\n",
            "RangeIndex: 169 entries, 0 to 168\n",
            "Data columns (total 4 columns):\n",
            " #   Column    Non-Null Count  Dtype  \n",
            "---  ------    --------------  -----  \n",
            " 0   Duration  169 non-null    int64  \n",
            " 1   Pulse     169 non-null    int64  \n",
            " 2   Maxpulse  169 non-null    int64  \n",
            " 3   Calories  164 non-null    float64\n",
            "dtypes: float64(1), int64(3)\n",
            "memory usage: 5.4 KB\n",
            "None\n"
          ]
        }
      ]
    },
    {
      "cell_type": "markdown",
      "source": [
        "2. Cleaning_Empty_Cell"
      ],
      "metadata": {
        "id": "XppA1yZn5wa6"
      }
    },
    {
      "cell_type": "code",
      "source": [
        "dataset = pd.read_csv(\"/content/drive/MyDrive/Python/Datasets/Dirty_Data.csv\")\n",
        "#new_dataset = dataset.dropna() #removes all na(null or empty) values\n",
        "new_dataset = dataset['Calories'].dropna() #removes all na values in 'Calories'\n",
        "print(new_dataset)"
      ],
      "metadata": {
        "colab": {
          "base_uri": "https://localhost:8080/"
        },
        "id": "bv3fww_f5vB3",
        "outputId": "57013a02-453e-45cc-f712-e930c877c32e"
      },
      "execution_count": null,
      "outputs": [
        {
          "output_type": "stream",
          "name": "stdout",
          "text": [
            "0     409.1\n",
            "1     479.0\n",
            "2     340.0\n",
            "3     282.4\n",
            "4     406.0\n",
            "5     300.0\n",
            "6     374.0\n",
            "7     253.3\n",
            "8     195.1\n",
            "9     269.0\n",
            "10    329.3\n",
            "11    250.7\n",
            "12    250.7\n",
            "13    345.3\n",
            "14    379.3\n",
            "15    275.0\n",
            "16    215.2\n",
            "17    300.0\n",
            "19    323.0\n",
            "20    243.0\n",
            "21    364.2\n",
            "22    282.0\n",
            "23    300.0\n",
            "24    246.0\n",
            "25    334.5\n",
            "26    250.0\n",
            "27    241.0\n",
            "29    280.0\n",
            "30    380.3\n",
            "31    243.0\n",
            "Name: Calories, dtype: float64\n"
          ]
        }
      ]
    },
    {
      "cell_type": "markdown",
      "source": [
        "3. Cleaning_Empty_Cell_by_Dropping"
      ],
      "metadata": {
        "id": "7kLrGi036J8B"
      }
    },
    {
      "cell_type": "code",
      "source": [
        "dataset = pd.read_csv(\"/content/drive/MyDrive/Python/Datasets/Dirty_Data.csv\")\n",
        "\n",
        "#when collecting data to new variable \"inplace\"is not used\n",
        "new_dataset = dataset.dropna() #removes all na(null or empty) values\n",
        "#new_dataset = dataset['Calories'].dropna() #removes all na values in 'Calories'\n",
        "print(new_dataset)\n",
        "\n",
        "#when changing the original data use \"inplcae = 'True' \"\n",
        "#dataset.dropna(inplace = True)  #to change in the original dataframe\n",
        "#dataset['Calories'].dropna()\n",
        "dataset.dropna(subset=['Calories'])\n",
        "print(dataset)"
      ],
      "metadata": {
        "colab": {
          "base_uri": "https://localhost:8080/"
        },
        "id": "XI0GRXzS6Ndr",
        "outputId": "199661ad-ed17-47dd-a125-9c8a67782c0b"
      },
      "execution_count": null,
      "outputs": [
        {
          "output_type": "stream",
          "name": "stdout",
          "text": [
            "    Duration          Date  Pulse  Maxpulse  Calories\n",
            "0         60  '2020/12/01'    110       130     409.1\n",
            "1         60  '2020/12/02'    117       145     479.0\n",
            "2         60  '2020/12/03'    103       135     340.0\n",
            "3         45  '2020/12/04'    109       175     282.4\n",
            "4         45  '2020/12/05'    117       148     406.0\n",
            "5         60  '2020/12/06'    102       127     300.0\n",
            "6         60  '2020/12/07'    110       136     374.0\n",
            "7        450  '2020/12/08'    104       134     253.3\n",
            "8         30  '2020/12/09'    109       133     195.1\n",
            "9         60  '2020/12/10'     98       124     269.0\n",
            "10        60  '2020/12/11'    103       147     329.3\n",
            "11        60  '2020/12/12'    100       120     250.7\n",
            "12        60  '2020/12/12'    100       120     250.7\n",
            "13        60  '2020/12/13'    106       128     345.3\n",
            "14        60  '2020/12/14'    104       132     379.3\n",
            "15        60  '2020/12/15'     98       123     275.0\n",
            "16        60  '2020/12/16'     98       120     215.2\n",
            "17        60  '2020/12/17'    100       120     300.0\n",
            "19        60  '2020/12/19'    103       123     323.0\n",
            "20        45  '2020/12/20'     97       125     243.0\n",
            "21        60  '2020/12/21'    108       131     364.2\n",
            "23        60  '2020/12/23'    130       101     300.0\n",
            "24        45  '2020/12/24'    105       132     246.0\n",
            "25        60  '2020/12/25'    102       126     334.5\n",
            "26        60      20201226    100       120     250.0\n",
            "27        60  '2020/12/27'     92       118     241.0\n",
            "29        60  '2020/12/29'    100       132     280.0\n",
            "30        60  '2020/12/30'    102       129     380.3\n",
            "31        60  '2020/12/31'     92       115     243.0\n",
            "    Duration          Date  Pulse  Maxpulse  Calories\n",
            "0         60  '2020/12/01'    110       130     409.1\n",
            "1         60  '2020/12/02'    117       145     479.0\n",
            "2         60  '2020/12/03'    103       135     340.0\n",
            "3         45  '2020/12/04'    109       175     282.4\n",
            "4         45  '2020/12/05'    117       148     406.0\n",
            "5         60  '2020/12/06'    102       127     300.0\n",
            "6         60  '2020/12/07'    110       136     374.0\n",
            "7        450  '2020/12/08'    104       134     253.3\n",
            "8         30  '2020/12/09'    109       133     195.1\n",
            "9         60  '2020/12/10'     98       124     269.0\n",
            "10        60  '2020/12/11'    103       147     329.3\n",
            "11        60  '2020/12/12'    100       120     250.7\n",
            "12        60  '2020/12/12'    100       120     250.7\n",
            "13        60  '2020/12/13'    106       128     345.3\n",
            "14        60  '2020/12/14'    104       132     379.3\n",
            "15        60  '2020/12/15'     98       123     275.0\n",
            "16        60  '2020/12/16'     98       120     215.2\n",
            "17        60  '2020/12/17'    100       120     300.0\n",
            "18        45  '2020/12/18'     90       112       NaN\n",
            "19        60  '2020/12/19'    103       123     323.0\n",
            "20        45  '2020/12/20'     97       125     243.0\n",
            "21        60  '2020/12/21'    108       131     364.2\n",
            "22        45           NaN    100       119     282.0\n",
            "23        60  '2020/12/23'    130       101     300.0\n",
            "24        45  '2020/12/24'    105       132     246.0\n",
            "25        60  '2020/12/25'    102       126     334.5\n",
            "26        60      20201226    100       120     250.0\n",
            "27        60  '2020/12/27'     92       118     241.0\n",
            "28        60  '2020/12/28'    103       132       NaN\n",
            "29        60  '2020/12/29'    100       132     280.0\n",
            "30        60  '2020/12/30'    102       129     380.3\n",
            "31        60  '2020/12/31'     92       115     243.0\n"
          ]
        }
      ]
    },
    {
      "cell_type": "markdown",
      "source": [
        "4. Cleaning_Empty_Cell_by_Filling"
      ],
      "metadata": {
        "id": "-nAHzM9J6lKP"
      }
    },
    {
      "cell_type": "code",
      "source": [
        "dataset = pd.read_csv(\"/content/drive/MyDrive/Python/Datasets/Dirty_Data.csv\")\n",
        "\n",
        "#when collecting data to new variable \"inplace\"is not used\n",
        "new_dataset = dataset.fillna(130) # changes all the na(null or empty) values to provided value\n",
        "#new_dataset = dataset['Calories'].fillna(130) # changes all na values in 'Calories' to provided value\n",
        "print(new_dataset)\n",
        "\n",
        "#when changing the original data use \"inplcae = 'True' \"\n",
        "#dataset.fillna(1300, inplace = True) # changes in original dataframe\n",
        "dataset['Calories'].fillna(1300, inplace = True)\n",
        "\n",
        "print(dataset) "
      ],
      "metadata": {
        "colab": {
          "base_uri": "https://localhost:8080/"
        },
        "id": "3Pgjos4z7B4K",
        "outputId": "8db53da4-e55b-47df-ea6c-3776394f8967"
      },
      "execution_count": null,
      "outputs": [
        {
          "output_type": "stream",
          "name": "stdout",
          "text": [
            "    Duration          Date  Pulse  Maxpulse  Calories\n",
            "0         60  '2020/12/01'    110       130     409.1\n",
            "1         60  '2020/12/02'    117       145     479.0\n",
            "2         60  '2020/12/03'    103       135     340.0\n",
            "3         45  '2020/12/04'    109       175     282.4\n",
            "4         45  '2020/12/05'    117       148     406.0\n",
            "5         60  '2020/12/06'    102       127     300.0\n",
            "6         60  '2020/12/07'    110       136     374.0\n",
            "7        450  '2020/12/08'    104       134     253.3\n",
            "8         30  '2020/12/09'    109       133     195.1\n",
            "9         60  '2020/12/10'     98       124     269.0\n",
            "10        60  '2020/12/11'    103       147     329.3\n",
            "11        60  '2020/12/12'    100       120     250.7\n",
            "12        60  '2020/12/12'    100       120     250.7\n",
            "13        60  '2020/12/13'    106       128     345.3\n",
            "14        60  '2020/12/14'    104       132     379.3\n",
            "15        60  '2020/12/15'     98       123     275.0\n",
            "16        60  '2020/12/16'     98       120     215.2\n",
            "17        60  '2020/12/17'    100       120     300.0\n",
            "18        45  '2020/12/18'     90       112     130.0\n",
            "19        60  '2020/12/19'    103       123     323.0\n",
            "20        45  '2020/12/20'     97       125     243.0\n",
            "21        60  '2020/12/21'    108       131     364.2\n",
            "22        45           130    100       119     282.0\n",
            "23        60  '2020/12/23'    130       101     300.0\n",
            "24        45  '2020/12/24'    105       132     246.0\n",
            "25        60  '2020/12/25'    102       126     334.5\n",
            "26        60      20201226    100       120     250.0\n",
            "27        60  '2020/12/27'     92       118     241.0\n",
            "28        60  '2020/12/28'    103       132     130.0\n",
            "29        60  '2020/12/29'    100       132     280.0\n",
            "30        60  '2020/12/30'    102       129     380.3\n",
            "31        60  '2020/12/31'     92       115     243.0\n",
            "    Duration          Date  Pulse  Maxpulse  Calories\n",
            "0         60  '2020/12/01'    110       130     409.1\n",
            "1         60  '2020/12/02'    117       145     479.0\n",
            "2         60  '2020/12/03'    103       135     340.0\n",
            "3         45  '2020/12/04'    109       175     282.4\n",
            "4         45  '2020/12/05'    117       148     406.0\n",
            "5         60  '2020/12/06'    102       127     300.0\n",
            "6         60  '2020/12/07'    110       136     374.0\n",
            "7        450  '2020/12/08'    104       134     253.3\n",
            "8         30  '2020/12/09'    109       133     195.1\n",
            "9         60  '2020/12/10'     98       124     269.0\n",
            "10        60  '2020/12/11'    103       147     329.3\n",
            "11        60  '2020/12/12'    100       120     250.7\n",
            "12        60  '2020/12/12'    100       120     250.7\n",
            "13        60  '2020/12/13'    106       128     345.3\n",
            "14        60  '2020/12/14'    104       132     379.3\n",
            "15        60  '2020/12/15'     98       123     275.0\n",
            "16        60  '2020/12/16'     98       120     215.2\n",
            "17        60  '2020/12/17'    100       120     300.0\n",
            "18        45  '2020/12/18'     90       112    1300.0\n",
            "19        60  '2020/12/19'    103       123     323.0\n",
            "20        45  '2020/12/20'     97       125     243.0\n",
            "21        60  '2020/12/21'    108       131     364.2\n",
            "22        45           NaN    100       119     282.0\n",
            "23        60  '2020/12/23'    130       101     300.0\n",
            "24        45  '2020/12/24'    105       132     246.0\n",
            "25        60  '2020/12/25'    102       126     334.5\n",
            "26        60      20201226    100       120     250.0\n",
            "27        60  '2020/12/27'     92       118     241.0\n",
            "28        60  '2020/12/28'    103       132    1300.0\n",
            "29        60  '2020/12/29'    100       132     280.0\n",
            "30        60  '2020/12/30'    102       129     380.3\n",
            "31        60  '2020/12/31'     92       115     243.0\n"
          ]
        }
      ]
    },
    {
      "cell_type": "markdown",
      "source": [
        "5. Cleaning_Empty_Cell_by_Mean"
      ],
      "metadata": {
        "id": "3EtT7tyy7S50"
      }
    },
    {
      "cell_type": "code",
      "source": [
        "dataset = pd.read_csv(\"/content/drive/MyDrive/Python/Datasets/Dirty_Data.csv\")\n",
        "\n",
        "#using mean to change data\n",
        "#mean - the average value\n",
        "\n",
        "calorie_mean = dataset['Calories'].mean()\n",
        "dataset['Calories'].fillna(calorie_mean, inplace = True)\n",
        "print(dataset)"
      ],
      "metadata": {
        "colab": {
          "base_uri": "https://localhost:8080/"
        },
        "id": "Z_DNxlwS8USO",
        "outputId": "e59427c6-f733-4f67-fe26-84d24008264e"
      },
      "execution_count": null,
      "outputs": [
        {
          "output_type": "stream",
          "name": "stdout",
          "text": [
            "    Duration          Date  Pulse  Maxpulse  Calories\n",
            "0         60  '2020/12/01'    110       130    409.10\n",
            "1         60  '2020/12/02'    117       145    479.00\n",
            "2         60  '2020/12/03'    103       135    340.00\n",
            "3         45  '2020/12/04'    109       175    282.40\n",
            "4         45  '2020/12/05'    117       148    406.00\n",
            "5         60  '2020/12/06'    102       127    300.00\n",
            "6         60  '2020/12/07'    110       136    374.00\n",
            "7        450  '2020/12/08'    104       134    253.30\n",
            "8         30  '2020/12/09'    109       133    195.10\n",
            "9         60  '2020/12/10'     98       124    269.00\n",
            "10        60  '2020/12/11'    103       147    329.30\n",
            "11        60  '2020/12/12'    100       120    250.70\n",
            "12        60  '2020/12/12'    100       120    250.70\n",
            "13        60  '2020/12/13'    106       128    345.30\n",
            "14        60  '2020/12/14'    104       132    379.30\n",
            "15        60  '2020/12/15'     98       123    275.00\n",
            "16        60  '2020/12/16'     98       120    215.20\n",
            "17        60  '2020/12/17'    100       120    300.00\n",
            "18        45  '2020/12/18'     90       112    304.68\n",
            "19        60  '2020/12/19'    103       123    323.00\n",
            "20        45  '2020/12/20'     97       125    243.00\n",
            "21        60  '2020/12/21'    108       131    364.20\n",
            "22        45           NaN    100       119    282.00\n",
            "23        60  '2020/12/23'    130       101    300.00\n",
            "24        45  '2020/12/24'    105       132    246.00\n",
            "25        60  '2020/12/25'    102       126    334.50\n",
            "26        60      20201226    100       120    250.00\n",
            "27        60  '2020/12/27'     92       118    241.00\n",
            "28        60  '2020/12/28'    103       132    304.68\n",
            "29        60  '2020/12/29'    100       132    280.00\n",
            "30        60  '2020/12/30'    102       129    380.30\n",
            "31        60  '2020/12/31'     92       115    243.00\n"
          ]
        }
      ]
    },
    {
      "cell_type": "markdown",
      "source": [
        "6. Cleaning_Empty_Cell_by_Median"
      ],
      "metadata": {
        "id": "NSjcs22y8cps"
      }
    },
    {
      "cell_type": "code",
      "source": [
        "dataset = pd.read_csv(\"/content/drive/MyDrive/Python/Datasets/Dirty_Data.csv\")\n",
        "\n",
        "#using median to change data\n",
        "#median - the middle value of the sorted data\n",
        "\n",
        "calorie_median = dataset['Calories'].median()\n",
        "dataset['Calories'].fillna(calorie_median, inplace = True)\n",
        "print(dataset)\n"
      ],
      "metadata": {
        "colab": {
          "base_uri": "https://localhost:8080/"
        },
        "id": "-VZXt4fD8lLM",
        "outputId": "6e661d5a-ca1d-462f-af12-ae689356446f"
      },
      "execution_count": null,
      "outputs": [
        {
          "output_type": "stream",
          "name": "stdout",
          "text": [
            "    Duration          Date  Pulse  Maxpulse  Calories\n",
            "0         60  '2020/12/01'    110       130     409.1\n",
            "1         60  '2020/12/02'    117       145     479.0\n",
            "2         60  '2020/12/03'    103       135     340.0\n",
            "3         45  '2020/12/04'    109       175     282.4\n",
            "4         45  '2020/12/05'    117       148     406.0\n",
            "5         60  '2020/12/06'    102       127     300.0\n",
            "6         60  '2020/12/07'    110       136     374.0\n",
            "7        450  '2020/12/08'    104       134     253.3\n",
            "8         30  '2020/12/09'    109       133     195.1\n",
            "9         60  '2020/12/10'     98       124     269.0\n",
            "10        60  '2020/12/11'    103       147     329.3\n",
            "11        60  '2020/12/12'    100       120     250.7\n",
            "12        60  '2020/12/12'    100       120     250.7\n",
            "13        60  '2020/12/13'    106       128     345.3\n",
            "14        60  '2020/12/14'    104       132     379.3\n",
            "15        60  '2020/12/15'     98       123     275.0\n",
            "16        60  '2020/12/16'     98       120     215.2\n",
            "17        60  '2020/12/17'    100       120     300.0\n",
            "18        45  '2020/12/18'     90       112     291.2\n",
            "19        60  '2020/12/19'    103       123     323.0\n",
            "20        45  '2020/12/20'     97       125     243.0\n",
            "21        60  '2020/12/21'    108       131     364.2\n",
            "22        45           NaN    100       119     282.0\n",
            "23        60  '2020/12/23'    130       101     300.0\n",
            "24        45  '2020/12/24'    105       132     246.0\n",
            "25        60  '2020/12/25'    102       126     334.5\n",
            "26        60      20201226    100       120     250.0\n",
            "27        60  '2020/12/27'     92       118     241.0\n",
            "28        60  '2020/12/28'    103       132     291.2\n",
            "29        60  '2020/12/29'    100       132     280.0\n",
            "30        60  '2020/12/30'    102       129     380.3\n",
            "31        60  '2020/12/31'     92       115     243.0\n"
          ]
        }
      ]
    },
    {
      "cell_type": "markdown",
      "source": [
        "7. Cleaning_Empty_Cell_By_Mode\n",
        "\n"
      ],
      "metadata": {
        "id": "TcPpbsCJ86ye"
      }
    },
    {
      "cell_type": "code",
      "source": [
        "dataset = pd.read_csv(\"/content/drive/MyDrive/Python/Datasets/Dirty_Data.csv\")\n",
        "\n",
        "#using mode to change data\n",
        "#mode - the value that appears frequently\n",
        "\n",
        "calorie_mode = dataset['Calories'].mode()[0]\n",
        "dataset['Calories'].fillna(calorie_mode, inplace = True)\n",
        "print(dataset)\n"
      ],
      "metadata": {
        "colab": {
          "base_uri": "https://localhost:8080/"
        },
        "id": "srP4VgwB9Eof",
        "outputId": "866555da-61bb-4e13-9432-2e71842263ee"
      },
      "execution_count": null,
      "outputs": [
        {
          "output_type": "stream",
          "name": "stdout",
          "text": [
            "    Duration          Date  Pulse  Maxpulse  Calories\n",
            "0         60  '2020/12/01'    110       130     409.1\n",
            "1         60  '2020/12/02'    117       145     479.0\n",
            "2         60  '2020/12/03'    103       135     340.0\n",
            "3         45  '2020/12/04'    109       175     282.4\n",
            "4         45  '2020/12/05'    117       148     406.0\n",
            "5         60  '2020/12/06'    102       127     300.0\n",
            "6         60  '2020/12/07'    110       136     374.0\n",
            "7        450  '2020/12/08'    104       134     253.3\n",
            "8         30  '2020/12/09'    109       133     195.1\n",
            "9         60  '2020/12/10'     98       124     269.0\n",
            "10        60  '2020/12/11'    103       147     329.3\n",
            "11        60  '2020/12/12'    100       120     250.7\n",
            "12        60  '2020/12/12'    100       120     250.7\n",
            "13        60  '2020/12/13'    106       128     345.3\n",
            "14        60  '2020/12/14'    104       132     379.3\n",
            "15        60  '2020/12/15'     98       123     275.0\n",
            "16        60  '2020/12/16'     98       120     215.2\n",
            "17        60  '2020/12/17'    100       120     300.0\n",
            "18        45  '2020/12/18'     90       112     300.0\n",
            "19        60  '2020/12/19'    103       123     323.0\n",
            "20        45  '2020/12/20'     97       125     243.0\n",
            "21        60  '2020/12/21'    108       131     364.2\n",
            "22        45           NaN    100       119     282.0\n",
            "23        60  '2020/12/23'    130       101     300.0\n",
            "24        45  '2020/12/24'    105       132     246.0\n",
            "25        60  '2020/12/25'    102       126     334.5\n",
            "26        60      20201226    100       120     250.0\n",
            "27        60  '2020/12/27'     92       118     241.0\n",
            "28        60  '2020/12/28'    103       132     300.0\n",
            "29        60  '2020/12/29'    100       132     280.0\n",
            "30        60  '2020/12/30'    102       129     380.3\n",
            "31        60  '2020/12/31'     92       115     243.0\n"
          ]
        }
      ]
    },
    {
      "cell_type": "markdown",
      "source": [
        "8. Cleaning_Wrong_Data"
      ],
      "metadata": {
        "id": "NCUrvyX59WG8"
      }
    },
    {
      "cell_type": "code",
      "source": [
        "dataset = pd.read_csv(\"/content/drive/MyDrive/Python/Datasets/Dirty_Data.csv\")\n",
        " #there are three ways to work on worng data\n",
        "\n",
        "#1. if the dataframe is small you can manually change the data\n",
        "#dataset.loc[7, 'Duration'] = 45\n",
        "\n",
        "#2. for bigger dataframes you can either loop through them and set a maximum limit\n",
        "x = sorted(dataset['Duration'])\n",
        "y = x[-2]\n",
        "for i in dataset.index:\n",
        "    if dataset.loc[i, 'Duration'] > y:\n",
        "        dataset.loc[i, 'Duration'] = y\n",
        "print(dataset)\n",
        "\n",
        "#3. or you can remove it\n",
        "'''x = sorted(dataset['Duration'])\n",
        "y = x[-2]\n",
        "for i in dataset.index:\n",
        "    if dataset.loc[i, 'Duration'] > 120:\n",
        "        dataset.dropna(inplace = True) '''"
      ],
      "metadata": {
        "colab": {
          "base_uri": "https://localhost:8080/",
          "height": 626
        },
        "id": "G4G_Pbv_9ln6",
        "outputId": "5a9baf6b-6e23-484c-9d27-ebec516e9c71"
      },
      "execution_count": null,
      "outputs": [
        {
          "output_type": "stream",
          "name": "stdout",
          "text": [
            "    Duration          Date  Pulse  Maxpulse  Calories\n",
            "0         60  '2020/12/01'    110       130     409.1\n",
            "1         60  '2020/12/02'    117       145     479.0\n",
            "2         60  '2020/12/03'    103       135     340.0\n",
            "3         45  '2020/12/04'    109       175     282.4\n",
            "4         45  '2020/12/05'    117       148     406.0\n",
            "5         60  '2020/12/06'    102       127     300.0\n",
            "6         60  '2020/12/07'    110       136     374.0\n",
            "7         60  '2020/12/08'    104       134     253.3\n",
            "8         30  '2020/12/09'    109       133     195.1\n",
            "9         60  '2020/12/10'     98       124     269.0\n",
            "10        60  '2020/12/11'    103       147     329.3\n",
            "11        60  '2020/12/12'    100       120     250.7\n",
            "12        60  '2020/12/12'    100       120     250.7\n",
            "13        60  '2020/12/13'    106       128     345.3\n",
            "14        60  '2020/12/14'    104       132     379.3\n",
            "15        60  '2020/12/15'     98       123     275.0\n",
            "16        60  '2020/12/16'     98       120     215.2\n",
            "17        60  '2020/12/17'    100       120     300.0\n",
            "18        45  '2020/12/18'     90       112       NaN\n",
            "19        60  '2020/12/19'    103       123     323.0\n",
            "20        45  '2020/12/20'     97       125     243.0\n",
            "21        60  '2020/12/21'    108       131     364.2\n",
            "22        45           NaN    100       119     282.0\n",
            "23        60  '2020/12/23'    130       101     300.0\n",
            "24        45  '2020/12/24'    105       132     246.0\n",
            "25        60  '2020/12/25'    102       126     334.5\n",
            "26        60      20201226    100       120     250.0\n",
            "27        60  '2020/12/27'     92       118     241.0\n",
            "28        60  '2020/12/28'    103       132       NaN\n",
            "29        60  '2020/12/29'    100       132     280.0\n",
            "30        60  '2020/12/30'    102       129     380.3\n",
            "31        60  '2020/12/31'     92       115     243.0\n"
          ]
        },
        {
          "output_type": "execute_result",
          "data": {
            "text/plain": [
              "\"x = sorted(dataset['Duration'])\\ny = x[-2]\\nfor i in dataset.index:\\n    if dataset.loc[i, 'Duration'] > 120:\\n        dataset.dropna(inplace = True) \""
            ],
            "application/vnd.google.colaboratory.intrinsic+json": {
              "type": "string"
            }
          },
          "metadata": {},
          "execution_count": 49
        }
      ]
    },
    {
      "cell_type": "markdown",
      "source": [
        "9. Cleaning_Wrong_Format"
      ],
      "metadata": {
        "id": "r4JQ6Bjp9vBq"
      }
    },
    {
      "cell_type": "code",
      "source": [
        "dataset = pd.read_csv(\"/content/drive/MyDrive/Python/Datasets/Dirty_Data.csv\")\n",
        "\n",
        "#to correct the format use \"pd.to_datetime(var['date/time column']) \"\n",
        "dataset['Date'] = pd.to_datetime(dataset['Date']) #format in which data is changed will be your system date/time format\n",
        "#dataset['Date'].dropna(inplace = True)\n",
        "\n",
        "print(dataset)\n"
      ],
      "metadata": {
        "colab": {
          "base_uri": "https://localhost:8080/"
        },
        "id": "SHgdmeNs94_e",
        "outputId": "bb89c67a-5f3c-497d-ef48-f36f854d5541"
      },
      "execution_count": null,
      "outputs": [
        {
          "output_type": "stream",
          "name": "stdout",
          "text": [
            "    Duration       Date  Pulse  Maxpulse  Calories\n",
            "0         60 2020-12-01    110       130     409.1\n",
            "1         60 2020-12-02    117       145     479.0\n",
            "2         60 2020-12-03    103       135     340.0\n",
            "3         45 2020-12-04    109       175     282.4\n",
            "4         45 2020-12-05    117       148     406.0\n",
            "5         60 2020-12-06    102       127     300.0\n",
            "6         60 2020-12-07    110       136     374.0\n",
            "7        450 2020-12-08    104       134     253.3\n",
            "8         30 2020-12-09    109       133     195.1\n",
            "9         60 2020-12-10     98       124     269.0\n",
            "10        60 2020-12-11    103       147     329.3\n",
            "11        60 2020-12-12    100       120     250.7\n",
            "12        60 2020-12-12    100       120     250.7\n",
            "13        60 2020-12-13    106       128     345.3\n",
            "14        60 2020-12-14    104       132     379.3\n",
            "15        60 2020-12-15     98       123     275.0\n",
            "16        60 2020-12-16     98       120     215.2\n",
            "17        60 2020-12-17    100       120     300.0\n",
            "18        45 2020-12-18     90       112       NaN\n",
            "19        60 2020-12-19    103       123     323.0\n",
            "20        45 2020-12-20     97       125     243.0\n",
            "21        60 2020-12-21    108       131     364.2\n",
            "22        45        NaT    100       119     282.0\n",
            "23        60 2020-12-23    130       101     300.0\n",
            "24        45 2020-12-24    105       132     246.0\n",
            "25        60 2020-12-25    102       126     334.5\n",
            "26        60 2020-12-26    100       120     250.0\n",
            "27        60 2020-12-27     92       118     241.0\n",
            "28        60 2020-12-28    103       132       NaN\n",
            "29        60 2020-12-29    100       132     280.0\n",
            "30        60 2020-12-30    102       129     380.3\n",
            "31        60 2020-12-31     92       115     243.0\n"
          ]
        }
      ]
    },
    {
      "cell_type": "markdown",
      "source": [
        "10. Correlation"
      ],
      "metadata": {
        "id": "yRWDvZ9U-D_Q"
      }
    },
    {
      "cell_type": "code",
      "source": [
        "dataset = pd.read_csv(\"/content/drive/MyDrive/Python/Datasets/Dirty_Data.csv\")\n",
        "print(dataset.corr())\n",
        "corr = dataset.corr()\n",
        "corr.style.background_gradient(cmap = 'coolwarm')\n",
        "\n",
        "\"\"\"\n",
        "\n",
        "The Result of the corr() method is a table with a lot of numbers that represents how well the relationship is between two columns.\n",
        "\n",
        "The number varies from -1 to 1.\n",
        "\n",
        "1 means that there is a 1 to 1 relationship (a perfect correlation),\n",
        "and for this data set, each time a value went up in the first column, the other one went up as well.\n",
        "\n",
        "0.9 is also a good relationship,\n",
        "and if you increase one value, the other will probably increase as well.\n",
        "\n",
        "-0.9 would be just as good relationship as 0.9,\n",
        "but if you increase one value, the other will probably go down.\n",
        "\n",
        "0.2 means NOT a good relationship,\n",
        "meaning that if one value goes up does not mean that the other will.\n",
        "\n",
        "\n",
        "\"\"\"\n"
      ],
      "metadata": {
        "colab": {
          "base_uri": "https://localhost:8080/",
          "height": 316
        },
        "id": "cHrmo0eq-Fol",
        "outputId": "9f14d0a7-fc7d-40ba-814d-d5e9a2ba5aaf"
      },
      "execution_count": null,
      "outputs": [
        {
          "output_type": "stream",
          "name": "stdout",
          "text": [
            "          Duration     Pulse  Maxpulse  Calories\n",
            "Duration  1.000000  0.004410  0.049959 -0.114169\n",
            "Pulse     0.004410  1.000000  0.276583  0.513186\n",
            "Maxpulse  0.049959  0.276583  1.000000  0.357460\n",
            "Calories -0.114169  0.513186  0.357460  1.000000\n"
          ]
        },
        {
          "output_type": "stream",
          "name": "stderr",
          "text": [
            "<ipython-input-54-3b6ee0f6196c>:2: FutureWarning: The default value of numeric_only in DataFrame.corr is deprecated. In a future version, it will default to False. Select only valid columns or specify the value of numeric_only to silence this warning.\n",
            "  print(dataset.corr())\n",
            "<ipython-input-54-3b6ee0f6196c>:3: FutureWarning: The default value of numeric_only in DataFrame.corr is deprecated. In a future version, it will default to False. Select only valid columns or specify the value of numeric_only to silence this warning.\n",
            "  corr = dataset.corr()\n"
          ]
        },
        {
          "output_type": "execute_result",
          "data": {
            "text/plain": [
              "'\\n\\nThe Result of the corr() method is a table with a lot of numbers that represents how well the relationship is between two columns.\\n\\nThe number varies from -1 to 1.\\n\\n1 means that there is a 1 to 1 relationship (a perfect correlation),\\nand for this data set, each time a value went up in the first column, the other one went up as well.\\n\\n0.9 is also a good relationship,\\nand if you increase one value, the other will probably increase as well.\\n\\n-0.9 would be just as good relationship as 0.9,\\nbut if you increase one value, the other will probably go down.\\n\\n0.2 means NOT a good relationship,\\nmeaning that if one value goes up does not mean that the other will.\\n\\n\\n'"
            ],
            "application/vnd.google.colaboratory.intrinsic+json": {
              "type": "string"
            }
          },
          "metadata": {},
          "execution_count": 54
        }
      ]
    },
    {
      "cell_type": "markdown",
      "source": [
        "11. Data_Frames"
      ],
      "metadata": {
        "id": "WAmW_nbx-TgI"
      }
    },
    {
      "cell_type": "code",
      "source": [
        "data = {\"Cals\": [420, 380, 390],\n",
        "        \"Duration\": [50, 40, 45]}\n",
        "\n",
        "#load data into a DataFrame object:\n",
        "dataset = pd.DataFrame(data)\n",
        "\n",
        "print(dataset)\n",
        "print()\n",
        "print(dataset.loc[0]) #single row\n",
        "print()\n",
        "print(dataset.loc[[0,2,1]]) #multiple row\n",
        "print()\n",
        "\n",
        "dataset = pd.DataFrame(data, index = [\"day1\", \"day2\", \"day3\"])\n",
        "print(dataset) \n",
        "print(dataset.loc['day1'])\n",
        "\n",
        "#dataset = pd.read_*filetype*('*filename.type*')\n"
      ],
      "metadata": {
        "colab": {
          "base_uri": "https://localhost:8080/"
        },
        "id": "uhV8_Xag-Wn9",
        "outputId": "54282a9d-3c82-4dd9-9106-928b6157b77d"
      },
      "execution_count": null,
      "outputs": [
        {
          "output_type": "stream",
          "name": "stdout",
          "text": [
            "   Cals  Duration\n",
            "0   420        50\n",
            "1   380        40\n",
            "2   390        45\n",
            "\n",
            "Cals        420\n",
            "Duration     50\n",
            "Name: 0, dtype: int64\n",
            "\n",
            "   Cals  Duration\n",
            "0   420        50\n",
            "2   390        45\n",
            "1   380        40\n",
            "\n",
            "      Cals  Duration\n",
            "day1   420        50\n",
            "day2   380        40\n",
            "day3   390        45\n",
            "Cals        420\n",
            "Duration     50\n",
            "Name: day1, dtype: int64\n"
          ]
        }
      ]
    }
  ]
}