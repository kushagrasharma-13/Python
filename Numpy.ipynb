{
  "nbformat": 4,
  "nbformat_minor": 0,
  "metadata": {
    "colab": {
      "provenance": [],
      "include_colab_link": true
    },
    "kernelspec": {
      "name": "python3",
      "display_name": "Python 3"
    },
    "language_info": {
      "name": "python"
    }
  },
  "cells": [
    {
      "cell_type": "markdown",
      "metadata": {
        "id": "view-in-github",
        "colab_type": "text"
      },
      "source": [
        "<a href=\"https://colab.research.google.com/github/kushagrasharma-13/Python/blob/main/Numpy.ipynb\" target=\"_parent\"><img src=\"https://colab.research.google.com/assets/colab-badge.svg\" alt=\"Open In Colab\"/></a>"
      ]
    },
    {
      "cell_type": "markdown",
      "source": [
        "Introduction to Numpy"
      ],
      "metadata": {
        "id": "Z42EiwCDy-E2"
      }
    },
    {
      "cell_type": "code",
      "execution_count": null,
      "metadata": {
        "id": "iibCaHRnazyI"
      },
      "outputs": [],
      "source": [
        "import numpy as np\n",
        "import pandas as pd\n",
        "from numpy import array as ar"
      ]
    },
    {
      "cell_type": "code",
      "source": [
        "a = ar([1,2,3,4,'a',6])\n",
        "print(type(a))\n",
        "print(a[0]+a[3])\n",
        "print(a[0:3])"
      ],
      "metadata": {
        "id": "B1BIsMxqdFF4",
        "outputId": "8608ddbe-11f3-44bb-ac05-aee4a6e2d371",
        "colab": {
          "base_uri": "https://localhost:8080/"
        }
      },
      "execution_count": null,
      "outputs": [
        {
          "output_type": "stream",
          "name": "stdout",
          "text": [
            "<class 'numpy.ndarray'>\n",
            "14\n",
            "['1' '2' '3']\n"
          ]
        }
      ]
    },
    {
      "cell_type": "code",
      "source": [
        "b = ar([[1,2,3,4,6],[7,'a',9,1,2]])\n",
        "print(b)\n",
        "print(np.shape(b))\n",
        "print(np.ndim(b))\n",
        "print(b.size)\n",
        "print(b.dtype)\n",
        "print(b[0,1])"
      ],
      "metadata": {
        "id": "97xXlltkeY8A",
        "outputId": "5bf9acbb-69cf-4109-e0e3-71b42b7e648b",
        "colab": {
          "base_uri": "https://localhost:8080/"
        }
      },
      "execution_count": null,
      "outputs": [
        {
          "output_type": "stream",
          "name": "stdout",
          "text": [
            "[['1' '2' '3' '4' '6']\n",
            " ['7' 'a' '9' '1' '2']]\n",
            "(2, 5)\n",
            "2\n",
            "10\n",
            "<U21\n",
            "2\n"
          ]
        }
      ]
    },
    {
      "cell_type": "code",
      "source": [
        "z = a.copy()\n",
        "y = a.view()\n",
        "print(z)\n",
        "print(y)\n",
        "r = b.reshape(5,2)\n",
        "print(r)"
      ],
      "metadata": {
        "colab": {
          "base_uri": "https://localhost:8080/"
        },
        "id": "osusDZ8rXjFI",
        "outputId": "9a4edf5b-cfdd-4564-fcd6-6b7c419bc188"
      },
      "execution_count": null,
      "outputs": [
        {
          "output_type": "stream",
          "name": "stdout",
          "text": [
            "['1' '2' '3' '4' 'a' '6']\n",
            "['1' '2' '3' '4' 'a' '6']\n",
            "[['1' '2']\n",
            " ['3' '4']\n",
            " ['6' '7']\n",
            " ['a' '9']\n",
            " ['1' '2']]\n"
          ]
        }
      ]
    },
    {
      "cell_type": "code",
      "source": [
        "a1 = ar([[1,2,3],[4,5,6]])           \n",
        "for x1 in a1:\n",
        "  print(x1)\n",
        "for x2 in a1:                                  \n",
        "  for y1 in x2:\n",
        "    print(y1)        "
      ],
      "metadata": {
        "colab": {
          "base_uri": "https://localhost:8080/"
        },
        "id": "cT19GUmZYREH",
        "outputId": "62fdd28d-070c-4a9a-8da8-88a1b429f55c"
      },
      "execution_count": null,
      "outputs": [
        {
          "output_type": "stream",
          "name": "stdout",
          "text": [
            "[1 2 3]\n",
            "[4 5 6]\n",
            "1\n",
            "2\n",
            "3\n",
            "4\n",
            "5\n",
            "6\n"
          ]
        }
      ]
    },
    {
      "cell_type": "code",
      "source": [
        "a2 = np.array([1,2,3,4])\n",
        "a3 = np.array([5,6,7,8])\n",
        "a4 = np.concatenate((a2,a3))\n",
        "print(a4)\n",
        "a5 = np.array_split(a4,4)\n",
        "print('\\n',a5)\n",
        "print(a5[0],'\\n', a5[1],'\\n', a5[2],'\\n', a5[3])"
      ],
      "metadata": {
        "colab": {
          "base_uri": "https://localhost:8080/"
        },
        "id": "Mt9eH8NZYp-w",
        "outputId": "202b7dd8-6b1a-4ea9-e28c-686a0b730a27"
      },
      "execution_count": null,
      "outputs": [
        {
          "output_type": "stream",
          "name": "stdout",
          "text": [
            "[1 2 3 4 5 6 7 8]\n",
            "\n",
            " [array([1, 2]), array([3, 4]), array([5, 6]), array([7, 8])]\n",
            "[1 2] \n",
            " [3 4] \n",
            " [5 6] \n",
            " [7 8]\n"
          ]
        }
      ]
    },
    {
      "cell_type": "code",
      "source": [
        "a6 = ar([1,4,2,3,3,4])       # find indexes where element 4 is present.\n",
        "a7 = np.where(a6==3)\n",
        "print(a7)\n",
        "print(np.sort(a6))\n",
        "a8 = [True,False,True,False,True,True]\n",
        "a9 = a6[a8]\n",
        "print(a9)"
      ],
      "metadata": {
        "colab": {
          "base_uri": "https://localhost:8080/"
        },
        "id": "CRrc51y4aUSo",
        "outputId": "721fab33-a0de-4252-e0a2-1a010cd4cbf3"
      },
      "execution_count": null,
      "outputs": [
        {
          "output_type": "stream",
          "name": "stdout",
          "text": [
            "(array([3, 4]),)\n",
            "[1 2 3 3 4 4]\n",
            "[1 2 3 4]\n"
          ]
        }
      ]
    },
    {
      "cell_type": "code",
      "source": [
        "c = [1,2,3,4,5]\n",
        "df = pd.DataFrame(c)\n",
        "print(df)"
      ],
      "metadata": {
        "id": "pU2HoI9ykK-y",
        "outputId": "29b12df4-112a-43f4-c43f-a00d48de7a99",
        "colab": {
          "base_uri": "https://localhost:8080/"
        }
      },
      "execution_count": null,
      "outputs": [
        {
          "output_type": "stream",
          "name": "stdout",
          "text": [
            "   0\n",
            "0  1\n",
            "1  2\n",
            "2  3\n",
            "3  4\n",
            "4  5\n"
          ]
        }
      ]
    },
    {
      "cell_type": "code",
      "source": [
        "d  = ['p','a',1,'d','a','s']\n",
        "e = pd.Series(d)\n",
        "print(e)\n",
        "print(e.dtype)"
      ],
      "metadata": {
        "id": "Auz76DhMesG8",
        "outputId": "3117cf45-9a2f-4a72-efa1-8dd2a048d33c",
        "colab": {
          "base_uri": "https://localhost:8080/"
        }
      },
      "execution_count": null,
      "outputs": [
        {
          "output_type": "stream",
          "name": "stdout",
          "text": [
            "0    p\n",
            "1    a\n",
            "2    1\n",
            "3    d\n",
            "4    a\n",
            "5    s\n",
            "dtype: object\n",
            "object\n"
          ]
        }
      ]
    },
    {
      "cell_type": "code",
      "source": [
        "f = [['Kushagra',19],['Shivam','Eighteen'],['Prakhar',21]]\n",
        "g = pd.DataFrame(f,columns=['Name','Age'])\n",
        "print(g)"
      ],
      "metadata": {
        "id": "h-ZChcm6kqfu",
        "outputId": "98086517-72ee-4a35-bf13-a8c3ebf8cab6",
        "colab": {
          "base_uri": "https://localhost:8080/"
        }
      },
      "execution_count": null,
      "outputs": [
        {
          "output_type": "stream",
          "name": "stdout",
          "text": [
            "       Name       Age\n",
            "0  Kushagra        19\n",
            "1    Shivam  Eighteen\n",
            "2   Prakhar        21\n"
          ]
        }
      ]
    },
    {
      "cell_type": "code",
      "source": [
        "h = {'Name':['Kushagra','Shivam','Chhatra','Prakhar'],'Age':[19,'Eighteen',18,21]}\n",
        "i = pd.DataFrame(h)\n",
        "print(i)"
      ],
      "metadata": {
        "id": "A6g1jg8Ml90-",
        "outputId": "b288cd80-4fa5-4891-fcf7-982a484e508b",
        "colab": {
          "base_uri": "https://localhost:8080/"
        }
      },
      "execution_count": null,
      "outputs": [
        {
          "output_type": "stream",
          "name": "stdout",
          "text": [
            "       Name       Age\n",
            "0  Kushagra        19\n",
            "1    Shivam  Eighteen\n",
            "2   Chhatra        18\n",
            "3   Prakhar        21\n"
          ]
        }
      ]
    },
    {
      "cell_type": "code",
      "source": [
        "array = ar([[1,1,1],[2,4,8],[3,9,27],[4,16,64],[5,25,125],[6,36,216],[7,49,343]])\n",
        "index = ['First',2,'Third','Fourth',5,'Sixth','Seventh']\n",
        "colums = ['Number','Squares','Cube']\n",
        "df = pd.DataFrame(data=array,index=index,columns=colums)\n",
        "print(df)"
      ],
      "metadata": {
        "id": "viVLgzNgoHN7",
        "outputId": "d40f29a7-85a1-40a9-e5dc-b47e313497f1",
        "colab": {
          "base_uri": "https://localhost:8080/"
        }
      },
      "execution_count": null,
      "outputs": [
        {
          "output_type": "stream",
          "name": "stdout",
          "text": [
            "         Number  Squares  Cube\n",
            "First         1        1     1\n",
            "2             2        4     8\n",
            "Third         3        9    27\n",
            "Fourth        4       16    64\n",
            "5             5       25   125\n",
            "Sixth         6       36   216\n",
            "Seventh       7       49   343\n"
          ]
        }
      ]
    }
  ]
}