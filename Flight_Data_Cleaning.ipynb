{
  "nbformat": 4,
  "nbformat_minor": 0,
  "metadata": {
    "colab": {
      "provenance": [],
      "mount_file_id": "1XpdvpMTDUMJsTfqbJ6bkCW7Fsap_ZK47",
      "authorship_tag": "ABX9TyM9ZOeL6vA0q7LLMiQRwO48",
      "include_colab_link": true
    },
    "kernelspec": {
      "name": "python3",
      "display_name": "Python 3"
    },
    "language_info": {
      "name": "python"
    }
  },
  "cells": [
    {
      "cell_type": "markdown",
      "metadata": {
        "id": "view-in-github",
        "colab_type": "text"
      },
      "source": [
        "<a href=\"https://colab.research.google.com/github/kushagrasharma-13/Python/blob/main/Flight_Data_Cleaning.ipynb\" target=\"_parent\"><img src=\"https://colab.research.google.com/assets/colab-badge.svg\" alt=\"Open In Colab\"/></a>"
      ]
    },
    {
      "cell_type": "markdown",
      "source": [
        "# [URL to Lab docs](https://docs.google.com/document/d/1WEFXXsi5fi6ra0ImD7KCAeAdUtFxv2YOaQEPOgAi2bs/edit?usp=sharing)"
      ],
      "metadata": {
        "id": "1_3XSaEbOIhr"
      }
    },
    {
      "cell_type": "code",
      "execution_count": 1,
      "metadata": {
        "id": "7AIOgiU3NMUy"
      },
      "outputs": [],
      "source": [
        "import math\n",
        "import numpy as np\n",
        "import pandas as pd\n",
        "from sklearn.preprocessing import MinMaxScaler"
      ]
    },
    {
      "cell_type": "code",
      "source": [
        "dataset = pd.read_csv('/content/drive/MyDrive/Python/Datasets/Flights.csv')\n",
        "dataset"
      ],
      "metadata": {
        "colab": {
          "base_uri": "https://localhost:8080/",
          "height": 424
        },
        "id": "LZFSGCb1PKz-",
        "outputId": "92879915-af47-4b85-94cd-4e92ef313176"
      },
      "execution_count": 2,
      "outputs": [
        {
          "output_type": "execute_result",
          "data": {
            "text/plain": [
              "        year  month  day  dep_time  dep_delay  arr_time  arr_delay carrier  \\\n",
              "0       2014      1    1       1.0       96.0     235.0       70.0      AS   \n",
              "1       2014      1    1       4.0       -6.0     738.0      -23.0      US   \n",
              "2       2014      1    1       8.0       13.0     548.0       -4.0      UA   \n",
              "3       2014      1    1      28.0       -2.0     800.0      -23.0      US   \n",
              "4       2014      1    1      34.0       44.0     325.0       43.0      AS   \n",
              "...      ...    ...  ...       ...        ...       ...        ...     ...   \n",
              "162044  2014      9   30    2357.0       -2.0     545.0      -20.0      UA   \n",
              "162045  2014      9   30    2359.0        4.0     734.0       -1.0      DL   \n",
              "162046  2014      9   30       NaN        NaN       NaN        NaN      AS   \n",
              "162047  2014      9   30       NaN        NaN       NaN        NaN      US   \n",
              "162048  2014      9   30       NaN        NaN       NaN        NaN      WN   \n",
              "\n",
              "       tailnum  flight origin dest  air_time  distance  hour  minute  \n",
              "0       N508AS     145    PDX  ANC     194.0      1542   0.0     1.0  \n",
              "1       N195UW    1830    SEA  CLT     252.0      2279   0.0     4.0  \n",
              "2       N37422    1609    PDX  IAH     201.0      1825   0.0     8.0  \n",
              "3       N547UW     466    PDX  CLT     251.0      2282   0.0    28.0  \n",
              "4       N762AS     121    SEA  ANC     201.0      1448   0.0    34.0  \n",
              "...        ...     ...    ...  ...       ...       ...   ...     ...  \n",
              "162044  N477UA     479    PDX  IAH     210.0      1825  23.0    57.0  \n",
              "162045  N137DL    1929    SEA  ATL     244.0      2182  23.0    59.0  \n",
              "162046  N530AS     470    SEA  SAN       NaN      1050   NaN     NaN  \n",
              "162047     NaN     494    PDX  PHX       NaN      1009   NaN     NaN  \n",
              "162048  N790SW     427    SEA  SMF       NaN       605   NaN     NaN  \n",
              "\n",
              "[162049 rows x 16 columns]"
            ],
            "text/html": [
              "\n",
              "\n",
              "  <div id=\"df-4e29cb0b-9ad8-46cb-9669-366ef4f74928\">\n",
              "    <div class=\"colab-df-container\">\n",
              "      <div>\n",
              "<style scoped>\n",
              "    .dataframe tbody tr th:only-of-type {\n",
              "        vertical-align: middle;\n",
              "    }\n",
              "\n",
              "    .dataframe tbody tr th {\n",
              "        vertical-align: top;\n",
              "    }\n",
              "\n",
              "    .dataframe thead th {\n",
              "        text-align: right;\n",
              "    }\n",
              "</style>\n",
              "<table border=\"1\" class=\"dataframe\">\n",
              "  <thead>\n",
              "    <tr style=\"text-align: right;\">\n",
              "      <th></th>\n",
              "      <th>year</th>\n",
              "      <th>month</th>\n",
              "      <th>day</th>\n",
              "      <th>dep_time</th>\n",
              "      <th>dep_delay</th>\n",
              "      <th>arr_time</th>\n",
              "      <th>arr_delay</th>\n",
              "      <th>carrier</th>\n",
              "      <th>tailnum</th>\n",
              "      <th>flight</th>\n",
              "      <th>origin</th>\n",
              "      <th>dest</th>\n",
              "      <th>air_time</th>\n",
              "      <th>distance</th>\n",
              "      <th>hour</th>\n",
              "      <th>minute</th>\n",
              "    </tr>\n",
              "  </thead>\n",
              "  <tbody>\n",
              "    <tr>\n",
              "      <th>0</th>\n",
              "      <td>2014</td>\n",
              "      <td>1</td>\n",
              "      <td>1</td>\n",
              "      <td>1.0</td>\n",
              "      <td>96.0</td>\n",
              "      <td>235.0</td>\n",
              "      <td>70.0</td>\n",
              "      <td>AS</td>\n",
              "      <td>N508AS</td>\n",
              "      <td>145</td>\n",
              "      <td>PDX</td>\n",
              "      <td>ANC</td>\n",
              "      <td>194.0</td>\n",
              "      <td>1542</td>\n",
              "      <td>0.0</td>\n",
              "      <td>1.0</td>\n",
              "    </tr>\n",
              "    <tr>\n",
              "      <th>1</th>\n",
              "      <td>2014</td>\n",
              "      <td>1</td>\n",
              "      <td>1</td>\n",
              "      <td>4.0</td>\n",
              "      <td>-6.0</td>\n",
              "      <td>738.0</td>\n",
              "      <td>-23.0</td>\n",
              "      <td>US</td>\n",
              "      <td>N195UW</td>\n",
              "      <td>1830</td>\n",
              "      <td>SEA</td>\n",
              "      <td>CLT</td>\n",
              "      <td>252.0</td>\n",
              "      <td>2279</td>\n",
              "      <td>0.0</td>\n",
              "      <td>4.0</td>\n",
              "    </tr>\n",
              "    <tr>\n",
              "      <th>2</th>\n",
              "      <td>2014</td>\n",
              "      <td>1</td>\n",
              "      <td>1</td>\n",
              "      <td>8.0</td>\n",
              "      <td>13.0</td>\n",
              "      <td>548.0</td>\n",
              "      <td>-4.0</td>\n",
              "      <td>UA</td>\n",
              "      <td>N37422</td>\n",
              "      <td>1609</td>\n",
              "      <td>PDX</td>\n",
              "      <td>IAH</td>\n",
              "      <td>201.0</td>\n",
              "      <td>1825</td>\n",
              "      <td>0.0</td>\n",
              "      <td>8.0</td>\n",
              "    </tr>\n",
              "    <tr>\n",
              "      <th>3</th>\n",
              "      <td>2014</td>\n",
              "      <td>1</td>\n",
              "      <td>1</td>\n",
              "      <td>28.0</td>\n",
              "      <td>-2.0</td>\n",
              "      <td>800.0</td>\n",
              "      <td>-23.0</td>\n",
              "      <td>US</td>\n",
              "      <td>N547UW</td>\n",
              "      <td>466</td>\n",
              "      <td>PDX</td>\n",
              "      <td>CLT</td>\n",
              "      <td>251.0</td>\n",
              "      <td>2282</td>\n",
              "      <td>0.0</td>\n",
              "      <td>28.0</td>\n",
              "    </tr>\n",
              "    <tr>\n",
              "      <th>4</th>\n",
              "      <td>2014</td>\n",
              "      <td>1</td>\n",
              "      <td>1</td>\n",
              "      <td>34.0</td>\n",
              "      <td>44.0</td>\n",
              "      <td>325.0</td>\n",
              "      <td>43.0</td>\n",
              "      <td>AS</td>\n",
              "      <td>N762AS</td>\n",
              "      <td>121</td>\n",
              "      <td>SEA</td>\n",
              "      <td>ANC</td>\n",
              "      <td>201.0</td>\n",
              "      <td>1448</td>\n",
              "      <td>0.0</td>\n",
              "      <td>34.0</td>\n",
              "    </tr>\n",
              "    <tr>\n",
              "      <th>...</th>\n",
              "      <td>...</td>\n",
              "      <td>...</td>\n",
              "      <td>...</td>\n",
              "      <td>...</td>\n",
              "      <td>...</td>\n",
              "      <td>...</td>\n",
              "      <td>...</td>\n",
              "      <td>...</td>\n",
              "      <td>...</td>\n",
              "      <td>...</td>\n",
              "      <td>...</td>\n",
              "      <td>...</td>\n",
              "      <td>...</td>\n",
              "      <td>...</td>\n",
              "      <td>...</td>\n",
              "      <td>...</td>\n",
              "    </tr>\n",
              "    <tr>\n",
              "      <th>162044</th>\n",
              "      <td>2014</td>\n",
              "      <td>9</td>\n",
              "      <td>30</td>\n",
              "      <td>2357.0</td>\n",
              "      <td>-2.0</td>\n",
              "      <td>545.0</td>\n",
              "      <td>-20.0</td>\n",
              "      <td>UA</td>\n",
              "      <td>N477UA</td>\n",
              "      <td>479</td>\n",
              "      <td>PDX</td>\n",
              "      <td>IAH</td>\n",
              "      <td>210.0</td>\n",
              "      <td>1825</td>\n",
              "      <td>23.0</td>\n",
              "      <td>57.0</td>\n",
              "    </tr>\n",
              "    <tr>\n",
              "      <th>162045</th>\n",
              "      <td>2014</td>\n",
              "      <td>9</td>\n",
              "      <td>30</td>\n",
              "      <td>2359.0</td>\n",
              "      <td>4.0</td>\n",
              "      <td>734.0</td>\n",
              "      <td>-1.0</td>\n",
              "      <td>DL</td>\n",
              "      <td>N137DL</td>\n",
              "      <td>1929</td>\n",
              "      <td>SEA</td>\n",
              "      <td>ATL</td>\n",
              "      <td>244.0</td>\n",
              "      <td>2182</td>\n",
              "      <td>23.0</td>\n",
              "      <td>59.0</td>\n",
              "    </tr>\n",
              "    <tr>\n",
              "      <th>162046</th>\n",
              "      <td>2014</td>\n",
              "      <td>9</td>\n",
              "      <td>30</td>\n",
              "      <td>NaN</td>\n",
              "      <td>NaN</td>\n",
              "      <td>NaN</td>\n",
              "      <td>NaN</td>\n",
              "      <td>AS</td>\n",
              "      <td>N530AS</td>\n",
              "      <td>470</td>\n",
              "      <td>SEA</td>\n",
              "      <td>SAN</td>\n",
              "      <td>NaN</td>\n",
              "      <td>1050</td>\n",
              "      <td>NaN</td>\n",
              "      <td>NaN</td>\n",
              "    </tr>\n",
              "    <tr>\n",
              "      <th>162047</th>\n",
              "      <td>2014</td>\n",
              "      <td>9</td>\n",
              "      <td>30</td>\n",
              "      <td>NaN</td>\n",
              "      <td>NaN</td>\n",
              "      <td>NaN</td>\n",
              "      <td>NaN</td>\n",
              "      <td>US</td>\n",
              "      <td>NaN</td>\n",
              "      <td>494</td>\n",
              "      <td>PDX</td>\n",
              "      <td>PHX</td>\n",
              "      <td>NaN</td>\n",
              "      <td>1009</td>\n",
              "      <td>NaN</td>\n",
              "      <td>NaN</td>\n",
              "    </tr>\n",
              "    <tr>\n",
              "      <th>162048</th>\n",
              "      <td>2014</td>\n",
              "      <td>9</td>\n",
              "      <td>30</td>\n",
              "      <td>NaN</td>\n",
              "      <td>NaN</td>\n",
              "      <td>NaN</td>\n",
              "      <td>NaN</td>\n",
              "      <td>WN</td>\n",
              "      <td>N790SW</td>\n",
              "      <td>427</td>\n",
              "      <td>SEA</td>\n",
              "      <td>SMF</td>\n",
              "      <td>NaN</td>\n",
              "      <td>605</td>\n",
              "      <td>NaN</td>\n",
              "      <td>NaN</td>\n",
              "    </tr>\n",
              "  </tbody>\n",
              "</table>\n",
              "<p>162049 rows × 16 columns</p>\n",
              "</div>\n",
              "      <button class=\"colab-df-convert\" onclick=\"convertToInteractive('df-4e29cb0b-9ad8-46cb-9669-366ef4f74928')\"\n",
              "              title=\"Convert this dataframe to an interactive table.\"\n",
              "              style=\"display:none;\">\n",
              "\n",
              "  <svg xmlns=\"http://www.w3.org/2000/svg\" height=\"24px\"viewBox=\"0 0 24 24\"\n",
              "       width=\"24px\">\n",
              "    <path d=\"M0 0h24v24H0V0z\" fill=\"none\"/>\n",
              "    <path d=\"M18.56 5.44l.94 2.06.94-2.06 2.06-.94-2.06-.94-.94-2.06-.94 2.06-2.06.94zm-11 1L8.5 8.5l.94-2.06 2.06-.94-2.06-.94L8.5 2.5l-.94 2.06-2.06.94zm10 10l.94 2.06.94-2.06 2.06-.94-2.06-.94-.94-2.06-.94 2.06-2.06.94z\"/><path d=\"M17.41 7.96l-1.37-1.37c-.4-.4-.92-.59-1.43-.59-.52 0-1.04.2-1.43.59L10.3 9.45l-7.72 7.72c-.78.78-.78 2.05 0 2.83L4 21.41c.39.39.9.59 1.41.59.51 0 1.02-.2 1.41-.59l7.78-7.78 2.81-2.81c.8-.78.8-2.07 0-2.86zM5.41 20L4 18.59l7.72-7.72 1.47 1.35L5.41 20z\"/>\n",
              "  </svg>\n",
              "      </button>\n",
              "\n",
              "\n",
              "\n",
              "    <div id=\"df-838c0ab6-b54a-4a90-9246-59978446dcfd\">\n",
              "      <button class=\"colab-df-quickchart\" onclick=\"quickchart('df-838c0ab6-b54a-4a90-9246-59978446dcfd')\"\n",
              "              title=\"Suggest charts.\"\n",
              "              style=\"display:none;\">\n",
              "\n",
              "<svg xmlns=\"http://www.w3.org/2000/svg\" height=\"24px\"viewBox=\"0 0 24 24\"\n",
              "     width=\"24px\">\n",
              "    <g>\n",
              "        <path d=\"M19 3H5c-1.1 0-2 .9-2 2v14c0 1.1.9 2 2 2h14c1.1 0 2-.9 2-2V5c0-1.1-.9-2-2-2zM9 17H7v-7h2v7zm4 0h-2V7h2v10zm4 0h-2v-4h2v4z\"/>\n",
              "    </g>\n",
              "</svg>\n",
              "      </button>\n",
              "    </div>\n",
              "\n",
              "<style>\n",
              "  .colab-df-quickchart {\n",
              "    background-color: #E8F0FE;\n",
              "    border: none;\n",
              "    border-radius: 50%;\n",
              "    cursor: pointer;\n",
              "    display: none;\n",
              "    fill: #1967D2;\n",
              "    height: 32px;\n",
              "    padding: 0 0 0 0;\n",
              "    width: 32px;\n",
              "  }\n",
              "\n",
              "  .colab-df-quickchart:hover {\n",
              "    background-color: #E2EBFA;\n",
              "    box-shadow: 0px 1px 2px rgba(60, 64, 67, 0.3), 0px 1px 3px 1px rgba(60, 64, 67, 0.15);\n",
              "    fill: #174EA6;\n",
              "  }\n",
              "\n",
              "  [theme=dark] .colab-df-quickchart {\n",
              "    background-color: #3B4455;\n",
              "    fill: #D2E3FC;\n",
              "  }\n",
              "\n",
              "  [theme=dark] .colab-df-quickchart:hover {\n",
              "    background-color: #434B5C;\n",
              "    box-shadow: 0px 1px 3px 1px rgba(0, 0, 0, 0.15);\n",
              "    filter: drop-shadow(0px 1px 2px rgba(0, 0, 0, 0.3));\n",
              "    fill: #FFFFFF;\n",
              "  }\n",
              "</style>\n",
              "\n",
              "    <script>\n",
              "      async function quickchart(key) {\n",
              "        const containerElement = document.querySelector('#' + key);\n",
              "        const charts = await google.colab.kernel.invokeFunction(\n",
              "            'suggestCharts', [key], {});\n",
              "      }\n",
              "    </script>\n",
              "\n",
              "      <script>\n",
              "\n",
              "function displayQuickchartButton(domScope) {\n",
              "  let quickchartButtonEl =\n",
              "    domScope.querySelector('#df-838c0ab6-b54a-4a90-9246-59978446dcfd button.colab-df-quickchart');\n",
              "  quickchartButtonEl.style.display =\n",
              "    google.colab.kernel.accessAllowed ? 'block' : 'none';\n",
              "}\n",
              "\n",
              "        displayQuickchartButton(document);\n",
              "      </script>\n",
              "      <style>\n",
              "    .colab-df-container {\n",
              "      display:flex;\n",
              "      flex-wrap:wrap;\n",
              "      gap: 12px;\n",
              "    }\n",
              "\n",
              "    .colab-df-convert {\n",
              "      background-color: #E8F0FE;\n",
              "      border: none;\n",
              "      border-radius: 50%;\n",
              "      cursor: pointer;\n",
              "      display: none;\n",
              "      fill: #1967D2;\n",
              "      height: 32px;\n",
              "      padding: 0 0 0 0;\n",
              "      width: 32px;\n",
              "    }\n",
              "\n",
              "    .colab-df-convert:hover {\n",
              "      background-color: #E2EBFA;\n",
              "      box-shadow: 0px 1px 2px rgba(60, 64, 67, 0.3), 0px 1px 3px 1px rgba(60, 64, 67, 0.15);\n",
              "      fill: #174EA6;\n",
              "    }\n",
              "\n",
              "    [theme=dark] .colab-df-convert {\n",
              "      background-color: #3B4455;\n",
              "      fill: #D2E3FC;\n",
              "    }\n",
              "\n",
              "    [theme=dark] .colab-df-convert:hover {\n",
              "      background-color: #434B5C;\n",
              "      box-shadow: 0px 1px 3px 1px rgba(0, 0, 0, 0.15);\n",
              "      filter: drop-shadow(0px 1px 2px rgba(0, 0, 0, 0.3));\n",
              "      fill: #FFFFFF;\n",
              "    }\n",
              "  </style>\n",
              "\n",
              "      <script>\n",
              "        const buttonEl =\n",
              "          document.querySelector('#df-4e29cb0b-9ad8-46cb-9669-366ef4f74928 button.colab-df-convert');\n",
              "        buttonEl.style.display =\n",
              "          google.colab.kernel.accessAllowed ? 'block' : 'none';\n",
              "\n",
              "        async function convertToInteractive(key) {\n",
              "          const element = document.querySelector('#df-4e29cb0b-9ad8-46cb-9669-366ef4f74928');\n",
              "          const dataTable =\n",
              "            await google.colab.kernel.invokeFunction('convertToInteractive',\n",
              "                                                     [key], {});\n",
              "          if (!dataTable) return;\n",
              "\n",
              "          const docLinkHtml = 'Like what you see? Visit the ' +\n",
              "            '<a target=\"_blank\" href=https://colab.research.google.com/notebooks/data_table.ipynb>data table notebook</a>'\n",
              "            + ' to learn more about interactive tables.';\n",
              "          element.innerHTML = '';\n",
              "          dataTable['output_type'] = 'display_data';\n",
              "          await google.colab.output.renderOutput(dataTable, element);\n",
              "          const docLink = document.createElement('div');\n",
              "          docLink.innerHTML = docLinkHtml;\n",
              "          element.appendChild(docLink);\n",
              "        }\n",
              "      </script>\n",
              "    </div>\n",
              "  </div>\n"
            ]
          },
          "metadata": {},
          "execution_count": 2
        }
      ]
    },
    {
      "cell_type": "code",
      "source": [
        "dataset.info()"
      ],
      "metadata": {
        "colab": {
          "base_uri": "https://localhost:8080/"
        },
        "id": "YMVgWXiVPOnS",
        "outputId": "aacc8b70-01bd-47b4-9527-619198178ba6"
      },
      "execution_count": 3,
      "outputs": [
        {
          "output_type": "stream",
          "name": "stdout",
          "text": [
            "<class 'pandas.core.frame.DataFrame'>\n",
            "RangeIndex: 162049 entries, 0 to 162048\n",
            "Data columns (total 16 columns):\n",
            " #   Column     Non-Null Count   Dtype  \n",
            "---  ------     --------------   -----  \n",
            " 0   year       162049 non-null  int64  \n",
            " 1   month      162049 non-null  int64  \n",
            " 2   day        162049 non-null  int64  \n",
            " 3   dep_time   161192 non-null  float64\n",
            " 4   dep_delay  161192 non-null  float64\n",
            " 5   arr_time   161061 non-null  float64\n",
            " 6   arr_delay  160748 non-null  float64\n",
            " 7   carrier    162049 non-null  object \n",
            " 8   tailnum    161801 non-null  object \n",
            " 9   flight     162049 non-null  int64  \n",
            " 10  origin     162049 non-null  object \n",
            " 11  dest       162049 non-null  object \n",
            " 12  air_time   160748 non-null  float64\n",
            " 13  distance   162049 non-null  int64  \n",
            " 14  hour       161192 non-null  float64\n",
            " 15  minute     161192 non-null  float64\n",
            "dtypes: float64(7), int64(5), object(4)\n",
            "memory usage: 19.8+ MB\n"
          ]
        }
      ]
    },
    {
      "cell_type": "code",
      "source": [
        "dataset.describe()"
      ],
      "metadata": {
        "colab": {
          "base_uri": "https://localhost:8080/",
          "height": 300
        },
        "id": "yZb5fefMPRds",
        "outputId": "23b2362a-79f2-4f68-e5a4-db4e299c61c3"
      },
      "execution_count": 4,
      "outputs": [
        {
          "output_type": "execute_result",
          "data": {
            "text/plain": [
              "           year          month            day       dep_time      dep_delay  \\\n",
              "count  162049.0  162049.000000  162049.000000  161192.000000  161192.000000   \n",
              "mean     2014.0       6.605027      15.749890    1278.283755       6.133859   \n",
              "std         0.0       3.324399       8.789417     522.583793      29.112035   \n",
              "min      2014.0       1.000000       1.000000       1.000000     -37.000000   \n",
              "25%      2014.0       4.000000       8.000000     831.000000      -5.000000   \n",
              "50%      2014.0       7.000000      16.000000    1217.000000      -2.000000   \n",
              "75%      2014.0       9.000000      23.000000    1721.000000       5.000000   \n",
              "max      2014.0      12.000000      31.000000    2400.000000    1553.000000   \n",
              "\n",
              "            arr_time      arr_delay         flight       air_time  \\\n",
              "count  161061.000000  160748.000000  162049.000000  160748.000000   \n",
              "mean     1482.501282       2.240868    1357.356725     152.588511   \n",
              "std       523.958781      31.191037    1495.271031      72.547469   \n",
              "min         1.000000     -67.000000       2.000000      18.000000   \n",
              "25%      1127.000000     -12.000000     408.000000     103.000000   \n",
              "50%      1517.000000      -4.000000     694.000000     129.000000   \n",
              "75%      1918.000000       7.000000    1726.000000     199.000000   \n",
              "max      2400.000000    1539.000000    6527.000000     422.000000   \n",
              "\n",
              "            distance           hour         minute  \n",
              "count  162049.000000  161192.000000  161192.000000  \n",
              "mean     1204.514634      12.479515      30.332244  \n",
              "std       653.150062       5.232476      18.061569  \n",
              "min        93.000000       0.000000       0.000000  \n",
              "25%       689.000000       8.000000      14.000000  \n",
              "50%       991.000000      12.000000      30.000000  \n",
              "75%      1660.000000      17.000000      47.000000  \n",
              "max      2724.000000      24.000000      59.000000  "
            ],
            "text/html": [
              "\n",
              "\n",
              "  <div id=\"df-01ab45ec-d73a-4ec4-b177-eeb709335a9d\">\n",
              "    <div class=\"colab-df-container\">\n",
              "      <div>\n",
              "<style scoped>\n",
              "    .dataframe tbody tr th:only-of-type {\n",
              "        vertical-align: middle;\n",
              "    }\n",
              "\n",
              "    .dataframe tbody tr th {\n",
              "        vertical-align: top;\n",
              "    }\n",
              "\n",
              "    .dataframe thead th {\n",
              "        text-align: right;\n",
              "    }\n",
              "</style>\n",
              "<table border=\"1\" class=\"dataframe\">\n",
              "  <thead>\n",
              "    <tr style=\"text-align: right;\">\n",
              "      <th></th>\n",
              "      <th>year</th>\n",
              "      <th>month</th>\n",
              "      <th>day</th>\n",
              "      <th>dep_time</th>\n",
              "      <th>dep_delay</th>\n",
              "      <th>arr_time</th>\n",
              "      <th>arr_delay</th>\n",
              "      <th>flight</th>\n",
              "      <th>air_time</th>\n",
              "      <th>distance</th>\n",
              "      <th>hour</th>\n",
              "      <th>minute</th>\n",
              "    </tr>\n",
              "  </thead>\n",
              "  <tbody>\n",
              "    <tr>\n",
              "      <th>count</th>\n",
              "      <td>162049.0</td>\n",
              "      <td>162049.000000</td>\n",
              "      <td>162049.000000</td>\n",
              "      <td>161192.000000</td>\n",
              "      <td>161192.000000</td>\n",
              "      <td>161061.000000</td>\n",
              "      <td>160748.000000</td>\n",
              "      <td>162049.000000</td>\n",
              "      <td>160748.000000</td>\n",
              "      <td>162049.000000</td>\n",
              "      <td>161192.000000</td>\n",
              "      <td>161192.000000</td>\n",
              "    </tr>\n",
              "    <tr>\n",
              "      <th>mean</th>\n",
              "      <td>2014.0</td>\n",
              "      <td>6.605027</td>\n",
              "      <td>15.749890</td>\n",
              "      <td>1278.283755</td>\n",
              "      <td>6.133859</td>\n",
              "      <td>1482.501282</td>\n",
              "      <td>2.240868</td>\n",
              "      <td>1357.356725</td>\n",
              "      <td>152.588511</td>\n",
              "      <td>1204.514634</td>\n",
              "      <td>12.479515</td>\n",
              "      <td>30.332244</td>\n",
              "    </tr>\n",
              "    <tr>\n",
              "      <th>std</th>\n",
              "      <td>0.0</td>\n",
              "      <td>3.324399</td>\n",
              "      <td>8.789417</td>\n",
              "      <td>522.583793</td>\n",
              "      <td>29.112035</td>\n",
              "      <td>523.958781</td>\n",
              "      <td>31.191037</td>\n",
              "      <td>1495.271031</td>\n",
              "      <td>72.547469</td>\n",
              "      <td>653.150062</td>\n",
              "      <td>5.232476</td>\n",
              "      <td>18.061569</td>\n",
              "    </tr>\n",
              "    <tr>\n",
              "      <th>min</th>\n",
              "      <td>2014.0</td>\n",
              "      <td>1.000000</td>\n",
              "      <td>1.000000</td>\n",
              "      <td>1.000000</td>\n",
              "      <td>-37.000000</td>\n",
              "      <td>1.000000</td>\n",
              "      <td>-67.000000</td>\n",
              "      <td>2.000000</td>\n",
              "      <td>18.000000</td>\n",
              "      <td>93.000000</td>\n",
              "      <td>0.000000</td>\n",
              "      <td>0.000000</td>\n",
              "    </tr>\n",
              "    <tr>\n",
              "      <th>25%</th>\n",
              "      <td>2014.0</td>\n",
              "      <td>4.000000</td>\n",
              "      <td>8.000000</td>\n",
              "      <td>831.000000</td>\n",
              "      <td>-5.000000</td>\n",
              "      <td>1127.000000</td>\n",
              "      <td>-12.000000</td>\n",
              "      <td>408.000000</td>\n",
              "      <td>103.000000</td>\n",
              "      <td>689.000000</td>\n",
              "      <td>8.000000</td>\n",
              "      <td>14.000000</td>\n",
              "    </tr>\n",
              "    <tr>\n",
              "      <th>50%</th>\n",
              "      <td>2014.0</td>\n",
              "      <td>7.000000</td>\n",
              "      <td>16.000000</td>\n",
              "      <td>1217.000000</td>\n",
              "      <td>-2.000000</td>\n",
              "      <td>1517.000000</td>\n",
              "      <td>-4.000000</td>\n",
              "      <td>694.000000</td>\n",
              "      <td>129.000000</td>\n",
              "      <td>991.000000</td>\n",
              "      <td>12.000000</td>\n",
              "      <td>30.000000</td>\n",
              "    </tr>\n",
              "    <tr>\n",
              "      <th>75%</th>\n",
              "      <td>2014.0</td>\n",
              "      <td>9.000000</td>\n",
              "      <td>23.000000</td>\n",
              "      <td>1721.000000</td>\n",
              "      <td>5.000000</td>\n",
              "      <td>1918.000000</td>\n",
              "      <td>7.000000</td>\n",
              "      <td>1726.000000</td>\n",
              "      <td>199.000000</td>\n",
              "      <td>1660.000000</td>\n",
              "      <td>17.000000</td>\n",
              "      <td>47.000000</td>\n",
              "    </tr>\n",
              "    <tr>\n",
              "      <th>max</th>\n",
              "      <td>2014.0</td>\n",
              "      <td>12.000000</td>\n",
              "      <td>31.000000</td>\n",
              "      <td>2400.000000</td>\n",
              "      <td>1553.000000</td>\n",
              "      <td>2400.000000</td>\n",
              "      <td>1539.000000</td>\n",
              "      <td>6527.000000</td>\n",
              "      <td>422.000000</td>\n",
              "      <td>2724.000000</td>\n",
              "      <td>24.000000</td>\n",
              "      <td>59.000000</td>\n",
              "    </tr>\n",
              "  </tbody>\n",
              "</table>\n",
              "</div>\n",
              "      <button class=\"colab-df-convert\" onclick=\"convertToInteractive('df-01ab45ec-d73a-4ec4-b177-eeb709335a9d')\"\n",
              "              title=\"Convert this dataframe to an interactive table.\"\n",
              "              style=\"display:none;\">\n",
              "\n",
              "  <svg xmlns=\"http://www.w3.org/2000/svg\" height=\"24px\"viewBox=\"0 0 24 24\"\n",
              "       width=\"24px\">\n",
              "    <path d=\"M0 0h24v24H0V0z\" fill=\"none\"/>\n",
              "    <path d=\"M18.56 5.44l.94 2.06.94-2.06 2.06-.94-2.06-.94-.94-2.06-.94 2.06-2.06.94zm-11 1L8.5 8.5l.94-2.06 2.06-.94-2.06-.94L8.5 2.5l-.94 2.06-2.06.94zm10 10l.94 2.06.94-2.06 2.06-.94-2.06-.94-.94-2.06-.94 2.06-2.06.94z\"/><path d=\"M17.41 7.96l-1.37-1.37c-.4-.4-.92-.59-1.43-.59-.52 0-1.04.2-1.43.59L10.3 9.45l-7.72 7.72c-.78.78-.78 2.05 0 2.83L4 21.41c.39.39.9.59 1.41.59.51 0 1.02-.2 1.41-.59l7.78-7.78 2.81-2.81c.8-.78.8-2.07 0-2.86zM5.41 20L4 18.59l7.72-7.72 1.47 1.35L5.41 20z\"/>\n",
              "  </svg>\n",
              "      </button>\n",
              "\n",
              "\n",
              "\n",
              "    <div id=\"df-a927e49d-d916-4d6c-b9c0-daf10d899690\">\n",
              "      <button class=\"colab-df-quickchart\" onclick=\"quickchart('df-a927e49d-d916-4d6c-b9c0-daf10d899690')\"\n",
              "              title=\"Suggest charts.\"\n",
              "              style=\"display:none;\">\n",
              "\n",
              "<svg xmlns=\"http://www.w3.org/2000/svg\" height=\"24px\"viewBox=\"0 0 24 24\"\n",
              "     width=\"24px\">\n",
              "    <g>\n",
              "        <path d=\"M19 3H5c-1.1 0-2 .9-2 2v14c0 1.1.9 2 2 2h14c1.1 0 2-.9 2-2V5c0-1.1-.9-2-2-2zM9 17H7v-7h2v7zm4 0h-2V7h2v10zm4 0h-2v-4h2v4z\"/>\n",
              "    </g>\n",
              "</svg>\n",
              "      </button>\n",
              "    </div>\n",
              "\n",
              "<style>\n",
              "  .colab-df-quickchart {\n",
              "    background-color: #E8F0FE;\n",
              "    border: none;\n",
              "    border-radius: 50%;\n",
              "    cursor: pointer;\n",
              "    display: none;\n",
              "    fill: #1967D2;\n",
              "    height: 32px;\n",
              "    padding: 0 0 0 0;\n",
              "    width: 32px;\n",
              "  }\n",
              "\n",
              "  .colab-df-quickchart:hover {\n",
              "    background-color: #E2EBFA;\n",
              "    box-shadow: 0px 1px 2px rgba(60, 64, 67, 0.3), 0px 1px 3px 1px rgba(60, 64, 67, 0.15);\n",
              "    fill: #174EA6;\n",
              "  }\n",
              "\n",
              "  [theme=dark] .colab-df-quickchart {\n",
              "    background-color: #3B4455;\n",
              "    fill: #D2E3FC;\n",
              "  }\n",
              "\n",
              "  [theme=dark] .colab-df-quickchart:hover {\n",
              "    background-color: #434B5C;\n",
              "    box-shadow: 0px 1px 3px 1px rgba(0, 0, 0, 0.15);\n",
              "    filter: drop-shadow(0px 1px 2px rgba(0, 0, 0, 0.3));\n",
              "    fill: #FFFFFF;\n",
              "  }\n",
              "</style>\n",
              "\n",
              "    <script>\n",
              "      async function quickchart(key) {\n",
              "        const containerElement = document.querySelector('#' + key);\n",
              "        const charts = await google.colab.kernel.invokeFunction(\n",
              "            'suggestCharts', [key], {});\n",
              "      }\n",
              "    </script>\n",
              "\n",
              "      <script>\n",
              "\n",
              "function displayQuickchartButton(domScope) {\n",
              "  let quickchartButtonEl =\n",
              "    domScope.querySelector('#df-a927e49d-d916-4d6c-b9c0-daf10d899690 button.colab-df-quickchart');\n",
              "  quickchartButtonEl.style.display =\n",
              "    google.colab.kernel.accessAllowed ? 'block' : 'none';\n",
              "}\n",
              "\n",
              "        displayQuickchartButton(document);\n",
              "      </script>\n",
              "      <style>\n",
              "    .colab-df-container {\n",
              "      display:flex;\n",
              "      flex-wrap:wrap;\n",
              "      gap: 12px;\n",
              "    }\n",
              "\n",
              "    .colab-df-convert {\n",
              "      background-color: #E8F0FE;\n",
              "      border: none;\n",
              "      border-radius: 50%;\n",
              "      cursor: pointer;\n",
              "      display: none;\n",
              "      fill: #1967D2;\n",
              "      height: 32px;\n",
              "      padding: 0 0 0 0;\n",
              "      width: 32px;\n",
              "    }\n",
              "\n",
              "    .colab-df-convert:hover {\n",
              "      background-color: #E2EBFA;\n",
              "      box-shadow: 0px 1px 2px rgba(60, 64, 67, 0.3), 0px 1px 3px 1px rgba(60, 64, 67, 0.15);\n",
              "      fill: #174EA6;\n",
              "    }\n",
              "\n",
              "    [theme=dark] .colab-df-convert {\n",
              "      background-color: #3B4455;\n",
              "      fill: #D2E3FC;\n",
              "    }\n",
              "\n",
              "    [theme=dark] .colab-df-convert:hover {\n",
              "      background-color: #434B5C;\n",
              "      box-shadow: 0px 1px 3px 1px rgba(0, 0, 0, 0.15);\n",
              "      filter: drop-shadow(0px 1px 2px rgba(0, 0, 0, 0.3));\n",
              "      fill: #FFFFFF;\n",
              "    }\n",
              "  </style>\n",
              "\n",
              "      <script>\n",
              "        const buttonEl =\n",
              "          document.querySelector('#df-01ab45ec-d73a-4ec4-b177-eeb709335a9d button.colab-df-convert');\n",
              "        buttonEl.style.display =\n",
              "          google.colab.kernel.accessAllowed ? 'block' : 'none';\n",
              "\n",
              "        async function convertToInteractive(key) {\n",
              "          const element = document.querySelector('#df-01ab45ec-d73a-4ec4-b177-eeb709335a9d');\n",
              "          const dataTable =\n",
              "            await google.colab.kernel.invokeFunction('convertToInteractive',\n",
              "                                                     [key], {});\n",
              "          if (!dataTable) return;\n",
              "\n",
              "          const docLinkHtml = 'Like what you see? Visit the ' +\n",
              "            '<a target=\"_blank\" href=https://colab.research.google.com/notebooks/data_table.ipynb>data table notebook</a>'\n",
              "            + ' to learn more about interactive tables.';\n",
              "          element.innerHTML = '';\n",
              "          dataTable['output_type'] = 'display_data';\n",
              "          await google.colab.output.renderOutput(dataTable, element);\n",
              "          const docLink = document.createElement('div');\n",
              "          docLink.innerHTML = docLinkHtml;\n",
              "          element.appendChild(docLink);\n",
              "        }\n",
              "      </script>\n",
              "    </div>\n",
              "  </div>\n"
            ]
          },
          "metadata": {},
          "execution_count": 4
        }
      ]
    },
    {
      "cell_type": "code",
      "source": [
        "dataset.isnull().sum()"
      ],
      "metadata": {
        "colab": {
          "base_uri": "https://localhost:8080/"
        },
        "id": "CKW-947FPTPi",
        "outputId": "bef39b0b-c33b-4380-ff40-290b67573777"
      },
      "execution_count": 5,
      "outputs": [
        {
          "output_type": "execute_result",
          "data": {
            "text/plain": [
              "year            0\n",
              "month           0\n",
              "day             0\n",
              "dep_time      857\n",
              "dep_delay     857\n",
              "arr_time      988\n",
              "arr_delay    1301\n",
              "carrier         0\n",
              "tailnum       248\n",
              "flight          0\n",
              "origin          0\n",
              "dest            0\n",
              "air_time     1301\n",
              "distance        0\n",
              "hour          857\n",
              "minute        857\n",
              "dtype: int64"
            ]
          },
          "metadata": {},
          "execution_count": 5
        }
      ]
    },
    {
      "cell_type": "markdown",
      "source": [
        "#1. Find the missing values of hours and distance and replace with the mean and find the correlation and visualize it. And find the correlation by normalizing the data using decimal scaling technique. And find the difference in both correlations.\n"
      ],
      "metadata": {
        "id": "GaT06-gzOta5"
      }
    },
    {
      "cell_type": "code",
      "source": [
        "dataset['hour'].isnull()"
      ],
      "metadata": {
        "colab": {
          "base_uri": "https://localhost:8080/"
        },
        "id": "TYXTqoBWPZyh",
        "outputId": "e2f73fcf-793b-459d-8ec5-022d692151c2"
      },
      "execution_count": 6,
      "outputs": [
        {
          "output_type": "execute_result",
          "data": {
            "text/plain": [
              "0         False\n",
              "1         False\n",
              "2         False\n",
              "3         False\n",
              "4         False\n",
              "          ...  \n",
              "162044    False\n",
              "162045    False\n",
              "162046     True\n",
              "162047     True\n",
              "162048     True\n",
              "Name: hour, Length: 162049, dtype: bool"
            ]
          },
          "metadata": {},
          "execution_count": 6
        }
      ]
    },
    {
      "cell_type": "code",
      "source": [
        "type(dataset)"
      ],
      "metadata": {
        "colab": {
          "base_uri": "https://localhost:8080/"
        },
        "id": "K2kz-_8mUKug",
        "outputId": "da399521-b855-43e4-9ecd-d55c4f97c1c4"
      },
      "execution_count": 7,
      "outputs": [
        {
          "output_type": "execute_result",
          "data": {
            "text/plain": [
              "pandas.core.frame.DataFrame"
            ]
          },
          "metadata": {},
          "execution_count": 7
        }
      ]
    },
    {
      "cell_type": "code",
      "source": [
        "hour_mean = pd.DataFrame(dataset['hour'].fillna(dataset['hour'].mean()))\n",
        "hour_mean.rename(columns={'hour':'hour_mean'}, inplace=True)\n",
        "dataset = dataset.join(hour_mean)"
      ],
      "metadata": {
        "id": "VlNWVMBbQ4Ev"
      },
      "execution_count": 8,
      "outputs": []
    },
    {
      "cell_type": "code",
      "source": [
        "hour = np.array(dataset['hour_mean'])\n",
        "distance = np.array(dataset['distance'])"
      ],
      "metadata": {
        "id": "BxHo0LPZaw3B"
      },
      "execution_count": 9,
      "outputs": []
    },
    {
      "cell_type": "code",
      "source": [
        "np.corrcoef(hour, distance)[0][1]"
      ],
      "metadata": {
        "colab": {
          "base_uri": "https://localhost:8080/"
        },
        "id": "bTDtIaWISeHP",
        "outputId": "9cd5577d-09fe-4849-8b21-f486a0cda4f4"
      },
      "execution_count": 10,
      "outputs": [
        {
          "output_type": "execute_result",
          "data": {
            "text/plain": [
              "-0.07757813298517759"
            ]
          },
          "metadata": {},
          "execution_count": 10
        }
      ]
    },
    {
      "cell_type": "markdown",
      "source": [
        "**Decimal Scaling**"
      ],
      "metadata": {
        "id": "6TegxbobYoxg"
      }
    },
    {
      "cell_type": "code",
      "source": [
        "hm = max(hour)\n",
        "dm = max(distance)\n",
        "jh = int(math.log10(hm)) + 1\n",
        "jd = int(math.log10(dm)) + 1\n",
        "\n",
        "#decimal scaling technique formula: vi' = vi/10^j\n",
        "for i in range(len(hour)):\n",
        "  hour[i] = hour[i] / 10**jh\n",
        "\n",
        "for i in range(len(distance)):\n",
        "  distance[i] = distance[i] / 10**jd\n"
      ],
      "metadata": {
        "id": "_yknMK7vYM5P"
      },
      "execution_count": 11,
      "outputs": []
    },
    {
      "cell_type": "code",
      "source": [
        "print(np.std(hour)==0 or np.std(distance)==0)   #correlation can not be found because standard deviation is zero\n",
        "print(pd.Series(hour).corr(pd.Series(distance)))\n",
        "print(np.corrcoef(hour, distance))"
      ],
      "metadata": {
        "colab": {
          "base_uri": "https://localhost:8080/"
        },
        "id": "A4Rga9T8cRAY",
        "outputId": "48ab9f69-c0c2-4398-d9b8-fce599238e2a"
      },
      "execution_count": 12,
      "outputs": [
        {
          "output_type": "stream",
          "name": "stdout",
          "text": [
            "True\n",
            "nan\n",
            "[[ 1. nan]\n",
            " [nan nan]]\n"
          ]
        },
        {
          "output_type": "stream",
          "name": "stderr",
          "text": [
            "/usr/local/lib/python3.10/dist-packages/numpy/lib/function_base.py:2853: RuntimeWarning: invalid value encountered in divide\n",
            "  c /= stddev[:, None]\n",
            "/usr/local/lib/python3.10/dist-packages/numpy/lib/function_base.py:2854: RuntimeWarning: invalid value encountered in divide\n",
            "  c /= stddev[None, :]\n"
          ]
        }
      ]
    },
    {
      "cell_type": "markdown",
      "source": [
        "#2. Find the missing values of hours and distance and replace with the median and find the correlation and visualize it. And find the correlation by normalizing the data using min-max normalization technique. And find the difference in both correlations.\n"
      ],
      "metadata": {
        "id": "VrxX148gca7q"
      }
    },
    {
      "cell_type": "code",
      "source": [
        "hour_median = pd.DataFrame(dataset['hour'].fillna(dataset['hour'].median()))\n",
        "hour_median.rename(columns={'hour':'hour_median'}, inplace=True)\n",
        "dataset = dataset.join(hour_median)"
      ],
      "metadata": {
        "id": "y6NWgGI0ch-p"
      },
      "execution_count": 13,
      "outputs": []
    },
    {
      "cell_type": "code",
      "source": [
        "hour = np.array(dataset['hour_median'])\n",
        "distance = np.array(dataset['distance'])"
      ],
      "metadata": {
        "id": "XlMQHRCmcr-0"
      },
      "execution_count": 14,
      "outputs": []
    },
    {
      "cell_type": "code",
      "source": [
        "np.corrcoef(hour, distance)[0][1]"
      ],
      "metadata": {
        "colab": {
          "base_uri": "https://localhost:8080/"
        },
        "id": "qkz1WBEHcwNv",
        "outputId": "f73530fb-78d8-4386-b071-7bfa4b01576e"
      },
      "execution_count": 15,
      "outputs": [
        {
          "output_type": "execute_result",
          "data": {
            "text/plain": [
              "-0.07754563444355889"
            ]
          },
          "metadata": {},
          "execution_count": 15
        }
      ]
    },
    {
      "cell_type": "markdown",
      "source": [
        "**Min Max Scaling**"
      ],
      "metadata": {
        "id": "VHRQOZqqjqFC"
      }
    },
    {
      "cell_type": "code",
      "source": [
        "scaler_hour = MinMaxScaler()\n",
        "hour_re = hour.reshape(-1,1)\n",
        "hour_scaler = scaler_hour.fit_transform(hour_re)"
      ],
      "metadata": {
        "id": "tIEq3ON4c2xR"
      },
      "execution_count": 16,
      "outputs": []
    },
    {
      "cell_type": "code",
      "source": [
        "scaler_distance = MinMaxScaler()\n",
        "distance_re = distance.reshape(-1,1)\n",
        "distance_scaler = scaler_distance.fit_transform(distance_re)"
      ],
      "metadata": {
        "id": "vTO2FsDzdGUC"
      },
      "execution_count": 17,
      "outputs": []
    },
    {
      "cell_type": "code",
      "source": [
        "#we need to flatten the 1d array created to 0d array so that it does not overload the 'corrcoef'\n",
        "hour_scaler = hour_scaler.flatten()\n",
        "distance_scaler = distance_scaler.flatten()"
      ],
      "metadata": {
        "id": "1rkVnWjdscG8"
      },
      "execution_count": 18,
      "outputs": []
    },
    {
      "cell_type": "code",
      "source": [
        "np.corrcoef(hour_scaler, distance_scaler)[0][1]   #runtime crashes on running this cell"
      ],
      "metadata": {
        "colab": {
          "base_uri": "https://localhost:8080/"
        },
        "id": "CT5DNfoFdJcd",
        "outputId": "4bb8d85c-1411-462c-f814-1ffc9f97c7f0"
      },
      "execution_count": 19,
      "outputs": [
        {
          "output_type": "execute_result",
          "data": {
            "text/plain": [
              "-0.07754563444355893"
            ]
          },
          "metadata": {},
          "execution_count": 19
        }
      ]
    },
    {
      "cell_type": "markdown",
      "source": [
        "#3. Find the missing values of hours and distance and replace with the mode and find the correlation and visualize it. And find the correlation by normalizing the data using z- score normalization technique. And find the difference in both correlations.\n"
      ],
      "metadata": {
        "id": "pvFORHzbjvQQ"
      }
    },
    {
      "cell_type": "code",
      "source": [
        "hour_mode = pd.DataFrame(dataset['hour'].fillna(dataset['hour'].mode()[0]))\n",
        "hour_mode.rename(columns={'hour':'hour_mode'}, inplace=True)\n",
        "dataset = dataset.join(hour_mode)"
      ],
      "metadata": {
        "id": "J-F1mmZEhjXI"
      },
      "execution_count": 20,
      "outputs": []
    },
    {
      "cell_type": "code",
      "source": [
        "hour = np.array(dataset['hour_mode'])\n",
        "distance = np.array(dataset['distance'])"
      ],
      "metadata": {
        "id": "y6nHJ7_AkHsE"
      },
      "execution_count": 21,
      "outputs": []
    },
    {
      "cell_type": "code",
      "source": [
        "np.corrcoef(hour, distance)"
      ],
      "metadata": {
        "colab": {
          "base_uri": "https://localhost:8080/"
        },
        "id": "9Ga2RMNRkYPw",
        "outputId": "162d7acc-eec6-432b-becd-5b083ffc99b4"
      },
      "execution_count": 22,
      "outputs": [
        {
          "output_type": "execute_result",
          "data": {
            "text/plain": [
              "array([[ 1.        , -0.07685127],\n",
              "       [-0.07685127,  1.        ]])"
            ]
          },
          "metadata": {},
          "execution_count": 22
        }
      ]
    },
    {
      "cell_type": "code",
      "source": [
        "#z score technique formula: vi' = (vi - ~A) / sd(A)\n",
        "\n",
        "sd_h = np.std(hour)\n",
        "sd_d = np.std(distance)\n",
        "\n",
        "m_h = np.mean(hour)\n",
        "m_d = np.mean(distance)\n",
        "\n",
        "for i in range(len(hour)):\n",
        "  hour[i] = (hour[i] - m_h) / sd_h\n",
        "\n",
        "for i in range(len(distance)):\n",
        "  distance[i] = (distance[i] - m_d) / sd_d"
      ],
      "metadata": {
        "id": "e9Jmkbt1kadY"
      },
      "execution_count": 23,
      "outputs": []
    },
    {
      "cell_type": "code",
      "source": [
        "print(np.std(hour)==0 or np.std(distance)==0)   #correlation can be found because standard deviation is not zero"
      ],
      "metadata": {
        "colab": {
          "base_uri": "https://localhost:8080/"
        },
        "id": "uhQGqkRnlVyt",
        "outputId": "918aa7be-1d4f-4c01-9806-36ba60d4a21c"
      },
      "execution_count": 24,
      "outputs": [
        {
          "output_type": "stream",
          "name": "stdout",
          "text": [
            "False\n"
          ]
        }
      ]
    },
    {
      "cell_type": "code",
      "source": [
        "np.corrcoef(hour, distance)[0][1]"
      ],
      "metadata": {
        "colab": {
          "base_uri": "https://localhost:8080/"
        },
        "id": "cnXVBYM0lX8X",
        "outputId": "dd3f66f5-7bda-4e8a-a802-c815a96a8486"
      },
      "execution_count": 25,
      "outputs": [
        {
          "output_type": "execute_result",
          "data": {
            "text/plain": [
              "-0.06696678263871918"
            ]
          },
          "metadata": {},
          "execution_count": 25
        }
      ]
    },
    {
      "cell_type": "markdown",
      "source": [
        "# Maximum correlation came when we performed z score normalization technique on datatset whose null hour values were filled by 'mode'"
      ],
      "metadata": {
        "id": "Pov8p0FXl5FC"
      }
    }
  ]
}